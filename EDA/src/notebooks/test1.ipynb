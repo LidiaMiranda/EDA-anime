{
 "cells": [
  {
   "cell_type": "code",
   "execution_count": 1,
   "metadata": {},
   "outputs": [],
   "source": [
    "import numpy as np\n",
    "import pandas as pd\n",
    "import datetime as dt\n",
    "import matplotlib.pyplot as plt\n",
    "import seaborn as sns\n",
    "import scipy as stats\n",
    "import statsmodels.api as sm"
   ]
  },
  {
   "cell_type": "code",
   "execution_count": 1,
   "metadata": {},
   "outputs": [
    {
     "ename": "ModuleNotFoundError",
     "evalue": "No module named 'utils'",
     "output_type": "error",
     "traceback": [
      "\u001b[1;31m---------------------------------------------------------------------------\u001b[0m",
      "\u001b[1;31mModuleNotFoundError\u001b[0m                       Traceback (most recent call last)",
      "\u001b[1;32m~\\AppData\\Local\\Temp\\ipykernel_8960\\508246549.py\u001b[0m in \u001b[0;36m<module>\u001b[1;34m\u001b[0m\n\u001b[1;32m----> 1\u001b[1;33m \u001b[1;32mfrom\u001b[0m \u001b[0mutils\u001b[0m\u001b[1;33m.\u001b[0m\u001b[0mfunciones\u001b[0m \u001b[1;32mimport\u001b[0m \u001b[1;33m*\u001b[0m\u001b[1;33m\u001b[0m\u001b[1;33m\u001b[0m\u001b[0m\n\u001b[0m",
      "\u001b[1;31mModuleNotFoundError\u001b[0m: No module named 'utils'"
     ]
    }
   ],
   "source": [
    "from utils.funciones import *"
   ]
  },
  {
   "cell_type": "code",
   "execution_count": 3,
   "metadata": {},
   "outputs": [],
   "source": [
    "import warnings\n",
    "warnings.filterwarnings('ignore')"
   ]
  },
  {
   "attachments": {},
   "cell_type": "markdown",
   "metadata": {},
   "source": [
    "## Consideraciones generales\n",
    "\n",
    "¡Ojo! Los animes están separados por temporadas. ¿Conviene que haya solo una fila por anime, sumando datos cuando sea necesario (como x ejemplo núm de personas que la puntuaron) y haciendo media de datos cuando sea necesario (la puntuación, x ejemplo)?\n",
    "\n",
    "### Data Cleaning\n",
    "- Se elimina la columna \"ID\", \"Synonyms\", \"Japanese\", \"Synopsis\" , \"End_Aired\", \"Producers\", Licensors\", \"Popularity\", \"Members\", \"Favourite\" y \"Broadcast\" por no aportar datos relevantes o por exceso de \"Unknowns\"\n",
    "- Se plantea eliminar la columna \"Title\" y renombrar la columna \"English\" por \"Title\". Sin embargo, aunque eso lo haría más comprensible para el público general, se comprueba que la columna \"English\" tiene más de 11K \"Unknown\". Se decide dejar ambas columnas\n",
    "- Se eliminan las filas donde \"Title\" == \"Unknown\" porque no aporta valor la fila de un anime sin título\n",
    "- Se eliminan las filas donde \"Start_Aired\" == \"Unknown\" porque no aporta valor el desconocimiento de la fecha en la que se estrena.\n",
    "- Se eliminan las filas donde \"Demographics\" == \"Unknown\" porque para el posterior análisis estadístico es imprescindible que no haya Unknowns.\n",
    "- En las columnas \"Demographics\", \"Themes\" y \"Genres\" se reemplazan los valores que tienen más de una palabra y se añaden a la categoría de la primera palabra. Por ejemplo, en \"Demographics\", \"Kids, Shounen\" se reemplaza por \"Kids\". Al ser una categoría ya existente, se suman los valores\n",
    "\n",
    "\n",
    "### Missing values\n",
    "    1. Tras hacer dos pruebas donde, por un lado, se reemplazan los NaN por la media de los valores en las columnas \"Score\" y \"Scored_User\"   y,  por otro lado, se eliminan las filas de esas columnas cuando hay un NaN, se decide mantener las filas y rellenarlas con el valor medio de esas columnas\n",
    "    2. Se decide hacer lo mismo con las columnas \"Episodes\" y \"Duration_Minutes\", tras comprobar que los NaN aparecen tanto en series, como en pelis.\n",
    "    3. En \"Ranked\" no tiene sentido rellenar los NaN con la media, porque es un ranking del 1 al **. Tras verificar la columna Ranked, se decide eliminar las filas donde \"Ranked\" == NaN. Se comprueba además que eliminando los Unknown de \"Ranked\" desaparecen los \"Status\" == \"Not yet aired\", dejando datos que tienen más valor para nuestras hipótesis"
   ]
  },
  {
   "attachments": {},
   "cell_type": "markdown",
   "metadata": {},
   "source": [
    "## Posibles Hipótesis\n",
    "\n",
    "- Los 10 animes con mejor ranking son Shounen (demográfica)\n",
    "- La puntuación está relacionada de forma inversa con la duración (a mayor duración, menor puntuación)\n",
    "- Los animes cuya emisión empezó antes de los 2010 tienen peor puntuación que los animes que empezaron a emitirse después del 01/01/2010\n",
    "- Los animes de género comedia tienen más posibilidades de tener una puntuación superior a 4/5\n",
    "- La puntuación de las películas es inferior a las de las series\n",
    "- Los animes de aventura tienen más usuarios que puntúan en comparación a comedia, pero la puntuación media es menor\n",
    "-~~Los animes que se emiten en fin de semana (viernes, sábado, domingo) tienen mejor puntuación que los que se emiten entre semana~~ DESCARTADO. La columna Broadcast tiene demasiados Unknowns\n",
    "- Los animes basados en manga tienen una puntuación media superior a los animes originales - histograma (pero se puede hacer con estadística)/ boxplot"
   ]
  },
  {
   "cell_type": "code",
   "execution_count": null,
   "metadata": {},
   "outputs": [],
   "source": []
  },
  {
   "cell_type": "code",
   "execution_count": 5,
   "metadata": {},
   "outputs": [
    {
     "ename": "FileNotFoundError",
     "evalue": "[Errno 2] No such file or directory: 'src\\\\data\\raw\\\\Anime.csv'",
     "output_type": "error",
     "traceback": [
      "\u001b[1;31m---------------------------------------------------------------------------\u001b[0m",
      "\u001b[1;31mFileNotFoundError\u001b[0m                         Traceback (most recent call last)",
      "\u001b[1;32m~\\AppData\\Local\\Temp\\ipykernel_2516\\502337448.py\u001b[0m in \u001b[0;36m<module>\u001b[1;34m\u001b[0m\n\u001b[1;32m----> 1\u001b[1;33m \u001b[0manime\u001b[0m \u001b[1;33m=\u001b[0m \u001b[0mpd\u001b[0m\u001b[1;33m.\u001b[0m\u001b[0mread_csv\u001b[0m\u001b[1;33m(\u001b[0m\u001b[1;34m'src\\data\\raw\\Anime.csv'\u001b[0m\u001b[1;33m,\u001b[0m \u001b[0msep\u001b[0m\u001b[1;33m=\u001b[0m\u001b[1;34m\",\"\u001b[0m\u001b[1;33m)\u001b[0m\u001b[1;33m\u001b[0m\u001b[1;33m\u001b[0m\u001b[0m\n\u001b[0m\u001b[0;32m      2\u001b[0m \u001b[0manime\u001b[0m\u001b[1;33m.\u001b[0m\u001b[0mhead\u001b[0m\u001b[1;33m(\u001b[0m\u001b[1;36m3\u001b[0m\u001b[1;33m)\u001b[0m\u001b[1;33m\u001b[0m\u001b[1;33m\u001b[0m\u001b[0m\n",
      "\u001b[1;32mc:\\Users\\lydia\\AppData\\Local\\Programs\\Python\\Python37\\lib\\site-packages\\pandas\\util\\_decorators.py\u001b[0m in \u001b[0;36mwrapper\u001b[1;34m(*args, **kwargs)\u001b[0m\n\u001b[0;32m    309\u001b[0m                     \u001b[0mstacklevel\u001b[0m\u001b[1;33m=\u001b[0m\u001b[0mstacklevel\u001b[0m\u001b[1;33m,\u001b[0m\u001b[1;33m\u001b[0m\u001b[1;33m\u001b[0m\u001b[0m\n\u001b[0;32m    310\u001b[0m                 )\n\u001b[1;32m--> 311\u001b[1;33m             \u001b[1;32mreturn\u001b[0m \u001b[0mfunc\u001b[0m\u001b[1;33m(\u001b[0m\u001b[1;33m*\u001b[0m\u001b[0margs\u001b[0m\u001b[1;33m,\u001b[0m \u001b[1;33m**\u001b[0m\u001b[0mkwargs\u001b[0m\u001b[1;33m)\u001b[0m\u001b[1;33m\u001b[0m\u001b[1;33m\u001b[0m\u001b[0m\n\u001b[0m\u001b[0;32m    312\u001b[0m \u001b[1;33m\u001b[0m\u001b[0m\n\u001b[0;32m    313\u001b[0m         \u001b[1;32mreturn\u001b[0m \u001b[0mwrapper\u001b[0m\u001b[1;33m\u001b[0m\u001b[1;33m\u001b[0m\u001b[0m\n",
      "\u001b[1;32mc:\\Users\\lydia\\AppData\\Local\\Programs\\Python\\Python37\\lib\\site-packages\\pandas\\io\\parsers\\readers.py\u001b[0m in \u001b[0;36mread_csv\u001b[1;34m(filepath_or_buffer, sep, delimiter, header, names, index_col, usecols, squeeze, prefix, mangle_dupe_cols, dtype, engine, converters, true_values, false_values, skipinitialspace, skiprows, skipfooter, nrows, na_values, keep_default_na, na_filter, verbose, skip_blank_lines, parse_dates, infer_datetime_format, keep_date_col, date_parser, dayfirst, cache_dates, iterator, chunksize, compression, thousands, decimal, lineterminator, quotechar, quoting, doublequote, escapechar, comment, encoding, encoding_errors, dialect, error_bad_lines, warn_bad_lines, on_bad_lines, delim_whitespace, low_memory, memory_map, float_precision, storage_options)\u001b[0m\n\u001b[0;32m    584\u001b[0m     \u001b[0mkwds\u001b[0m\u001b[1;33m.\u001b[0m\u001b[0mupdate\u001b[0m\u001b[1;33m(\u001b[0m\u001b[0mkwds_defaults\u001b[0m\u001b[1;33m)\u001b[0m\u001b[1;33m\u001b[0m\u001b[1;33m\u001b[0m\u001b[0m\n\u001b[0;32m    585\u001b[0m \u001b[1;33m\u001b[0m\u001b[0m\n\u001b[1;32m--> 586\u001b[1;33m     \u001b[1;32mreturn\u001b[0m \u001b[0m_read\u001b[0m\u001b[1;33m(\u001b[0m\u001b[0mfilepath_or_buffer\u001b[0m\u001b[1;33m,\u001b[0m \u001b[0mkwds\u001b[0m\u001b[1;33m)\u001b[0m\u001b[1;33m\u001b[0m\u001b[1;33m\u001b[0m\u001b[0m\n\u001b[0m\u001b[0;32m    587\u001b[0m \u001b[1;33m\u001b[0m\u001b[0m\n\u001b[0;32m    588\u001b[0m \u001b[1;33m\u001b[0m\u001b[0m\n",
      "\u001b[1;32mc:\\Users\\lydia\\AppData\\Local\\Programs\\Python\\Python37\\lib\\site-packages\\pandas\\io\\parsers\\readers.py\u001b[0m in \u001b[0;36m_read\u001b[1;34m(filepath_or_buffer, kwds)\u001b[0m\n\u001b[0;32m    480\u001b[0m \u001b[1;33m\u001b[0m\u001b[0m\n\u001b[0;32m    481\u001b[0m     \u001b[1;31m# Create the parser.\u001b[0m\u001b[1;33m\u001b[0m\u001b[1;33m\u001b[0m\u001b[1;33m\u001b[0m\u001b[0m\n\u001b[1;32m--> 482\u001b[1;33m     \u001b[0mparser\u001b[0m \u001b[1;33m=\u001b[0m \u001b[0mTextFileReader\u001b[0m\u001b[1;33m(\u001b[0m\u001b[0mfilepath_or_buffer\u001b[0m\u001b[1;33m,\u001b[0m \u001b[1;33m**\u001b[0m\u001b[0mkwds\u001b[0m\u001b[1;33m)\u001b[0m\u001b[1;33m\u001b[0m\u001b[1;33m\u001b[0m\u001b[0m\n\u001b[0m\u001b[0;32m    483\u001b[0m \u001b[1;33m\u001b[0m\u001b[0m\n\u001b[0;32m    484\u001b[0m     \u001b[1;32mif\u001b[0m \u001b[0mchunksize\u001b[0m \u001b[1;32mor\u001b[0m \u001b[0miterator\u001b[0m\u001b[1;33m:\u001b[0m\u001b[1;33m\u001b[0m\u001b[1;33m\u001b[0m\u001b[0m\n",
      "\u001b[1;32mc:\\Users\\lydia\\AppData\\Local\\Programs\\Python\\Python37\\lib\\site-packages\\pandas\\io\\parsers\\readers.py\u001b[0m in \u001b[0;36m__init__\u001b[1;34m(self, f, engine, **kwds)\u001b[0m\n\u001b[0;32m    809\u001b[0m             \u001b[0mself\u001b[0m\u001b[1;33m.\u001b[0m\u001b[0moptions\u001b[0m\u001b[1;33m[\u001b[0m\u001b[1;34m\"has_index_names\"\u001b[0m\u001b[1;33m]\u001b[0m \u001b[1;33m=\u001b[0m \u001b[0mkwds\u001b[0m\u001b[1;33m[\u001b[0m\u001b[1;34m\"has_index_names\"\u001b[0m\u001b[1;33m]\u001b[0m\u001b[1;33m\u001b[0m\u001b[1;33m\u001b[0m\u001b[0m\n\u001b[0;32m    810\u001b[0m \u001b[1;33m\u001b[0m\u001b[0m\n\u001b[1;32m--> 811\u001b[1;33m         \u001b[0mself\u001b[0m\u001b[1;33m.\u001b[0m\u001b[0m_engine\u001b[0m \u001b[1;33m=\u001b[0m \u001b[0mself\u001b[0m\u001b[1;33m.\u001b[0m\u001b[0m_make_engine\u001b[0m\u001b[1;33m(\u001b[0m\u001b[0mself\u001b[0m\u001b[1;33m.\u001b[0m\u001b[0mengine\u001b[0m\u001b[1;33m)\u001b[0m\u001b[1;33m\u001b[0m\u001b[1;33m\u001b[0m\u001b[0m\n\u001b[0m\u001b[0;32m    812\u001b[0m \u001b[1;33m\u001b[0m\u001b[0m\n\u001b[0;32m    813\u001b[0m     \u001b[1;32mdef\u001b[0m \u001b[0mclose\u001b[0m\u001b[1;33m(\u001b[0m\u001b[0mself\u001b[0m\u001b[1;33m)\u001b[0m\u001b[1;33m:\u001b[0m\u001b[1;33m\u001b[0m\u001b[1;33m\u001b[0m\u001b[0m\n",
      "\u001b[1;32mc:\\Users\\lydia\\AppData\\Local\\Programs\\Python\\Python37\\lib\\site-packages\\pandas\\io\\parsers\\readers.py\u001b[0m in \u001b[0;36m_make_engine\u001b[1;34m(self, engine)\u001b[0m\n\u001b[0;32m   1038\u001b[0m             )\n\u001b[0;32m   1039\u001b[0m         \u001b[1;31m# error: Too many arguments for \"ParserBase\"\u001b[0m\u001b[1;33m\u001b[0m\u001b[1;33m\u001b[0m\u001b[1;33m\u001b[0m\u001b[0m\n\u001b[1;32m-> 1040\u001b[1;33m         \u001b[1;32mreturn\u001b[0m \u001b[0mmapping\u001b[0m\u001b[1;33m[\u001b[0m\u001b[0mengine\u001b[0m\u001b[1;33m]\u001b[0m\u001b[1;33m(\u001b[0m\u001b[0mself\u001b[0m\u001b[1;33m.\u001b[0m\u001b[0mf\u001b[0m\u001b[1;33m,\u001b[0m \u001b[1;33m**\u001b[0m\u001b[0mself\u001b[0m\u001b[1;33m.\u001b[0m\u001b[0moptions\u001b[0m\u001b[1;33m)\u001b[0m  \u001b[1;31m# type: ignore[call-arg]\u001b[0m\u001b[1;33m\u001b[0m\u001b[1;33m\u001b[0m\u001b[0m\n\u001b[0m\u001b[0;32m   1041\u001b[0m \u001b[1;33m\u001b[0m\u001b[0m\n\u001b[0;32m   1042\u001b[0m     \u001b[1;32mdef\u001b[0m \u001b[0m_failover_to_python\u001b[0m\u001b[1;33m(\u001b[0m\u001b[0mself\u001b[0m\u001b[1;33m)\u001b[0m\u001b[1;33m:\u001b[0m\u001b[1;33m\u001b[0m\u001b[1;33m\u001b[0m\u001b[0m\n",
      "\u001b[1;32mc:\\Users\\lydia\\AppData\\Local\\Programs\\Python\\Python37\\lib\\site-packages\\pandas\\io\\parsers\\c_parser_wrapper.py\u001b[0m in \u001b[0;36m__init__\u001b[1;34m(self, src, **kwds)\u001b[0m\n\u001b[0;32m     49\u001b[0m \u001b[1;33m\u001b[0m\u001b[0m\n\u001b[0;32m     50\u001b[0m         \u001b[1;31m# open handles\u001b[0m\u001b[1;33m\u001b[0m\u001b[1;33m\u001b[0m\u001b[1;33m\u001b[0m\u001b[0m\n\u001b[1;32m---> 51\u001b[1;33m         \u001b[0mself\u001b[0m\u001b[1;33m.\u001b[0m\u001b[0m_open_handles\u001b[0m\u001b[1;33m(\u001b[0m\u001b[0msrc\u001b[0m\u001b[1;33m,\u001b[0m \u001b[0mkwds\u001b[0m\u001b[1;33m)\u001b[0m\u001b[1;33m\u001b[0m\u001b[1;33m\u001b[0m\u001b[0m\n\u001b[0m\u001b[0;32m     52\u001b[0m         \u001b[1;32massert\u001b[0m \u001b[0mself\u001b[0m\u001b[1;33m.\u001b[0m\u001b[0mhandles\u001b[0m \u001b[1;32mis\u001b[0m \u001b[1;32mnot\u001b[0m \u001b[1;32mNone\u001b[0m\u001b[1;33m\u001b[0m\u001b[1;33m\u001b[0m\u001b[0m\n\u001b[0;32m     53\u001b[0m \u001b[1;33m\u001b[0m\u001b[0m\n",
      "\u001b[1;32mc:\\Users\\lydia\\AppData\\Local\\Programs\\Python\\Python37\\lib\\site-packages\\pandas\\io\\parsers\\base_parser.py\u001b[0m in \u001b[0;36m_open_handles\u001b[1;34m(self, src, kwds)\u001b[0m\n\u001b[0;32m    227\u001b[0m             \u001b[0mmemory_map\u001b[0m\u001b[1;33m=\u001b[0m\u001b[0mkwds\u001b[0m\u001b[1;33m.\u001b[0m\u001b[0mget\u001b[0m\u001b[1;33m(\u001b[0m\u001b[1;34m\"memory_map\"\u001b[0m\u001b[1;33m,\u001b[0m \u001b[1;32mFalse\u001b[0m\u001b[1;33m)\u001b[0m\u001b[1;33m,\u001b[0m\u001b[1;33m\u001b[0m\u001b[1;33m\u001b[0m\u001b[0m\n\u001b[0;32m    228\u001b[0m             \u001b[0mstorage_options\u001b[0m\u001b[1;33m=\u001b[0m\u001b[0mkwds\u001b[0m\u001b[1;33m.\u001b[0m\u001b[0mget\u001b[0m\u001b[1;33m(\u001b[0m\u001b[1;34m\"storage_options\"\u001b[0m\u001b[1;33m,\u001b[0m \u001b[1;32mNone\u001b[0m\u001b[1;33m)\u001b[0m\u001b[1;33m,\u001b[0m\u001b[1;33m\u001b[0m\u001b[1;33m\u001b[0m\u001b[0m\n\u001b[1;32m--> 229\u001b[1;33m             \u001b[0merrors\u001b[0m\u001b[1;33m=\u001b[0m\u001b[0mkwds\u001b[0m\u001b[1;33m.\u001b[0m\u001b[0mget\u001b[0m\u001b[1;33m(\u001b[0m\u001b[1;34m\"encoding_errors\"\u001b[0m\u001b[1;33m,\u001b[0m \u001b[1;34m\"strict\"\u001b[0m\u001b[1;33m)\u001b[0m\u001b[1;33m,\u001b[0m\u001b[1;33m\u001b[0m\u001b[1;33m\u001b[0m\u001b[0m\n\u001b[0m\u001b[0;32m    230\u001b[0m         )\n\u001b[0;32m    231\u001b[0m \u001b[1;33m\u001b[0m\u001b[0m\n",
      "\u001b[1;32mc:\\Users\\lydia\\AppData\\Local\\Programs\\Python\\Python37\\lib\\site-packages\\pandas\\io\\common.py\u001b[0m in \u001b[0;36mget_handle\u001b[1;34m(path_or_buf, mode, encoding, compression, memory_map, is_text, errors, storage_options)\u001b[0m\n\u001b[0;32m    705\u001b[0m                 \u001b[0mencoding\u001b[0m\u001b[1;33m=\u001b[0m\u001b[0mioargs\u001b[0m\u001b[1;33m.\u001b[0m\u001b[0mencoding\u001b[0m\u001b[1;33m,\u001b[0m\u001b[1;33m\u001b[0m\u001b[1;33m\u001b[0m\u001b[0m\n\u001b[0;32m    706\u001b[0m                 \u001b[0merrors\u001b[0m\u001b[1;33m=\u001b[0m\u001b[0merrors\u001b[0m\u001b[1;33m,\u001b[0m\u001b[1;33m\u001b[0m\u001b[1;33m\u001b[0m\u001b[0m\n\u001b[1;32m--> 707\u001b[1;33m                 \u001b[0mnewline\u001b[0m\u001b[1;33m=\u001b[0m\u001b[1;34m\"\"\u001b[0m\u001b[1;33m,\u001b[0m\u001b[1;33m\u001b[0m\u001b[1;33m\u001b[0m\u001b[0m\n\u001b[0m\u001b[0;32m    708\u001b[0m             )\n\u001b[0;32m    709\u001b[0m         \u001b[1;32melse\u001b[0m\u001b[1;33m:\u001b[0m\u001b[1;33m\u001b[0m\u001b[1;33m\u001b[0m\u001b[0m\n",
      "\u001b[1;31mFileNotFoundError\u001b[0m: [Errno 2] No such file or directory: 'src\\\\data\\raw\\\\Anime.csv'"
     ]
    }
   ],
   "source": [
    "anime = pd.read_csv('src\\data\\raw\\Anime.csv', sep=\",\")\n",
    "anime.head(3)"
   ]
  },
  {
   "cell_type": "code",
   "execution_count": null,
   "metadata": {},
   "outputs": [
    {
     "data": {
      "text/html": [
       "<div>\n",
       "<style scoped>\n",
       "    .dataframe tbody tr th:only-of-type {\n",
       "        vertical-align: middle;\n",
       "    }\n",
       "\n",
       "    .dataframe tbody tr th {\n",
       "        vertical-align: top;\n",
       "    }\n",
       "\n",
       "    .dataframe thead th {\n",
       "        text-align: right;\n",
       "    }\n",
       "</style>\n",
       "<table border=\"1\" class=\"dataframe\">\n",
       "  <thead>\n",
       "    <tr style=\"text-align: right;\">\n",
       "      <th></th>\n",
       "      <th>ID</th>\n",
       "      <th>Title</th>\n",
       "      <th>Synonyms</th>\n",
       "      <th>Japanese</th>\n",
       "      <th>English</th>\n",
       "      <th>Synopsis</th>\n",
       "      <th>Type</th>\n",
       "      <th>Episodes</th>\n",
       "      <th>Status</th>\n",
       "      <th>Start_Aired</th>\n",
       "      <th>...</th>\n",
       "      <th>Themes</th>\n",
       "      <th>Demographics</th>\n",
       "      <th>Duration_Minutes</th>\n",
       "      <th>Rating</th>\n",
       "      <th>Score</th>\n",
       "      <th>Scored_Users</th>\n",
       "      <th>Ranked</th>\n",
       "      <th>Popularity</th>\n",
       "      <th>Members</th>\n",
       "      <th>Favorites</th>\n",
       "    </tr>\n",
       "  </thead>\n",
       "  <tbody>\n",
       "    <tr>\n",
       "      <th>21457</th>\n",
       "      <td>45059</td>\n",
       "      <td>Yongzhe Chuang Mo Cheng</td>\n",
       "      <td>Unknown</td>\n",
       "      <td>勇者闯魔城</td>\n",
       "      <td>Brave City</td>\n",
       "      <td>Unknown</td>\n",
       "      <td>Movie</td>\n",
       "      <td>1.0</td>\n",
       "      <td>Finished Airing</td>\n",
       "      <td>Mar 16, 2018</td>\n",
       "      <td>...</td>\n",
       "      <td>Unknown</td>\n",
       "      <td>Unknown</td>\n",
       "      <td>80.0</td>\n",
       "      <td>G - All Ages</td>\n",
       "      <td>NaN</td>\n",
       "      <td>NaN</td>\n",
       "      <td>164032.0</td>\n",
       "      <td>21489</td>\n",
       "      <td>6</td>\n",
       "      <td>0</td>\n",
       "    </tr>\n",
       "    <tr>\n",
       "      <th>21458</th>\n",
       "      <td>45063</td>\n",
       "      <td>Yu Shen Chuan: Wangzhe Shaonian</td>\n",
       "      <td>Unknown</td>\n",
       "      <td>禹神传之王者少年</td>\n",
       "      <td>The Juvenile of King Yu</td>\n",
       "      <td>Unknown</td>\n",
       "      <td>Movie</td>\n",
       "      <td>1.0</td>\n",
       "      <td>Finished Airing</td>\n",
       "      <td>Aug 15, 2018</td>\n",
       "      <td>...</td>\n",
       "      <td>Unknown</td>\n",
       "      <td>Unknown</td>\n",
       "      <td>90.0</td>\n",
       "      <td>G - All Ages</td>\n",
       "      <td>NaN</td>\n",
       "      <td>NaN</td>\n",
       "      <td>164462.0</td>\n",
       "      <td>21490</td>\n",
       "      <td>6</td>\n",
       "      <td>0</td>\n",
       "    </tr>\n",
       "    <tr>\n",
       "      <th>21459</th>\n",
       "      <td>45061</td>\n",
       "      <td>Konglong Wang</td>\n",
       "      <td>Unknown</td>\n",
       "      <td>恐龙王</td>\n",
       "      <td>Dino King</td>\n",
       "      <td>Unknown</td>\n",
       "      <td>Movie</td>\n",
       "      <td>1.0</td>\n",
       "      <td>Finished Airing</td>\n",
       "      <td>Nov 10, 2018</td>\n",
       "      <td>...</td>\n",
       "      <td>Historical</td>\n",
       "      <td>Kids</td>\n",
       "      <td>95.0</td>\n",
       "      <td>G - All Ages</td>\n",
       "      <td>NaN</td>\n",
       "      <td>NaN</td>\n",
       "      <td>193202.0</td>\n",
       "      <td>21490</td>\n",
       "      <td>6</td>\n",
       "      <td>0</td>\n",
       "    </tr>\n",
       "  </tbody>\n",
       "</table>\n",
       "<p>3 rows × 28 columns</p>\n",
       "</div>"
      ],
      "text/plain": [
       "          ID                            Title Synonyms  Japanese  \\\n",
       "21457  45059          Yongzhe Chuang Mo Cheng  Unknown     勇者闯魔城   \n",
       "21458  45063  Yu Shen Chuan: Wangzhe Shaonian  Unknown  禹神传之王者少年   \n",
       "21459  45061                    Konglong Wang  Unknown       恐龙王   \n",
       "\n",
       "                       English Synopsis   Type  Episodes           Status  \\\n",
       "21457               Brave City  Unknown  Movie       1.0  Finished Airing   \n",
       "21458  The Juvenile of King Yu  Unknown  Movie       1.0  Finished Airing   \n",
       "21459                Dino King  Unknown  Movie       1.0  Finished Airing   \n",
       "\n",
       "        Start_Aired  ...      Themes Demographics Duration_Minutes  \\\n",
       "21457  Mar 16, 2018  ...     Unknown      Unknown             80.0   \n",
       "21458  Aug 15, 2018  ...     Unknown      Unknown             90.0   \n",
       "21459  Nov 10, 2018  ...  Historical         Kids             95.0   \n",
       "\n",
       "             Rating Score Scored_Users    Ranked Popularity Members Favorites  \n",
       "21457  G - All Ages   NaN          NaN  164032.0      21489       6         0  \n",
       "21458  G - All Ages   NaN          NaN  164462.0      21490       6         0  \n",
       "21459  G - All Ages   NaN          NaN  193202.0      21490       6         0  \n",
       "\n",
       "[3 rows x 28 columns]"
      ]
     },
     "execution_count": 480,
     "metadata": {},
     "output_type": "execute_result"
    }
   ],
   "source": [
    "anime.tail(3)"
   ]
  },
  {
   "cell_type": "code",
   "execution_count": null,
   "metadata": {},
   "outputs": [
    {
     "name": "stdout",
     "output_type": "stream",
     "text": [
      "<class 'pandas.core.frame.DataFrame'>\n",
      "RangeIndex: 21460 entries, 0 to 21459\n",
      "Data columns (total 28 columns):\n",
      " #   Column            Non-Null Count  Dtype  \n",
      "---  ------            --------------  -----  \n",
      " 0   ID                21460 non-null  int64  \n",
      " 1   Title             21460 non-null  object \n",
      " 2   Synonyms          21460 non-null  object \n",
      " 3   Japanese          21460 non-null  object \n",
      " 4   English           21460 non-null  object \n",
      " 5   Synopsis          21460 non-null  object \n",
      " 6   Type              21460 non-null  object \n",
      " 7   Episodes          20913 non-null  float64\n",
      " 8   Status            21460 non-null  object \n",
      " 9   Start_Aired       21460 non-null  object \n",
      " 10  End_Aired         21460 non-null  object \n",
      " 11  Premiered         21460 non-null  object \n",
      " 12  Broadcast         21460 non-null  object \n",
      " 13  Producers         21460 non-null  object \n",
      " 14  Licensors         21460 non-null  object \n",
      " 15  Studios           21460 non-null  object \n",
      " 16  Source            21460 non-null  object \n",
      " 17  Genres            21460 non-null  object \n",
      " 18  Themes            21460 non-null  object \n",
      " 19  Demographics      21460 non-null  object \n",
      " 20  Duration_Minutes  20861 non-null  float64\n",
      " 21  Rating            21460 non-null  object \n",
      " 22  Score             14562 non-null  float64\n",
      " 23  Scored_Users      14562 non-null  float64\n",
      " 24  Ranked            19536 non-null  float64\n",
      " 25  Popularity        21460 non-null  int64  \n",
      " 26  Members           21460 non-null  int64  \n",
      " 27  Favorites         21460 non-null  int64  \n",
      "dtypes: float64(5), int64(4), object(19)\n",
      "memory usage: 4.6+ MB\n"
     ]
    }
   ],
   "source": [
    "anime.info()"
   ]
  },
  {
   "cell_type": "code",
   "execution_count": null,
   "metadata": {},
   "outputs": [
    {
     "data": {
      "text/html": [
       "<div>\n",
       "<style scoped>\n",
       "    .dataframe tbody tr th:only-of-type {\n",
       "        vertical-align: middle;\n",
       "    }\n",
       "\n",
       "    .dataframe tbody tr th {\n",
       "        vertical-align: top;\n",
       "    }\n",
       "\n",
       "    .dataframe thead th {\n",
       "        text-align: right;\n",
       "    }\n",
       "</style>\n",
       "<table border=\"1\" class=\"dataframe\">\n",
       "  <thead>\n",
       "    <tr style=\"text-align: right;\">\n",
       "      <th></th>\n",
       "      <th>ID</th>\n",
       "      <th>Episodes</th>\n",
       "      <th>Duration_Minutes</th>\n",
       "      <th>Score</th>\n",
       "      <th>Scored_Users</th>\n",
       "      <th>Ranked</th>\n",
       "      <th>Popularity</th>\n",
       "      <th>Members</th>\n",
       "      <th>Favorites</th>\n",
       "    </tr>\n",
       "  </thead>\n",
       "  <tbody>\n",
       "    <tr>\n",
       "      <th>count</th>\n",
       "      <td>21460.000000</td>\n",
       "      <td>20913.000000</td>\n",
       "      <td>20861.000000</td>\n",
       "      <td>14562.000000</td>\n",
       "      <td>14562.000000</td>\n",
       "      <td>19536.000000</td>\n",
       "      <td>21460.000000</td>\n",
       "      <td>2.146000e+04</td>\n",
       "      <td>21460.000000</td>\n",
       "    </tr>\n",
       "    <tr>\n",
       "      <th>mean</th>\n",
       "      <td>26458.575582</td>\n",
       "      <td>13.272892</td>\n",
       "      <td>23.934135</td>\n",
       "      <td>6.421724</td>\n",
       "      <td>26507.173809</td>\n",
       "      <td>97795.212019</td>\n",
       "      <td>10743.103681</td>\n",
       "      <td>3.926596e+04</td>\n",
       "      <td>462.214865</td>\n",
       "    </tr>\n",
       "    <tr>\n",
       "      <th>std</th>\n",
       "      <td>17100.477121</td>\n",
       "      <td>48.792326</td>\n",
       "      <td>24.676538</td>\n",
       "      <td>0.910469</td>\n",
       "      <td>84989.501599</td>\n",
       "      <td>56485.384273</td>\n",
       "      <td>6204.685188</td>\n",
       "      <td>1.566359e+05</td>\n",
       "      <td>4411.931536</td>\n",
       "    </tr>\n",
       "    <tr>\n",
       "      <th>min</th>\n",
       "      <td>1.000000</td>\n",
       "      <td>1.000000</td>\n",
       "      <td>1.000000</td>\n",
       "      <td>1.841000</td>\n",
       "      <td>101.000000</td>\n",
       "      <td>12.000000</td>\n",
       "      <td>1.000000</td>\n",
       "      <td>6.000000e+00</td>\n",
       "      <td>0.000000</td>\n",
       "    </tr>\n",
       "    <tr>\n",
       "      <th>25%</th>\n",
       "      <td>8454.750000</td>\n",
       "      <td>1.000000</td>\n",
       "      <td>5.000000</td>\n",
       "      <td>5.791000</td>\n",
       "      <td>418.000000</td>\n",
       "      <td>48879.500000</td>\n",
       "      <td>5369.750000</td>\n",
       "      <td>2.910000e+02</td>\n",
       "      <td>0.000000</td>\n",
       "    </tr>\n",
       "    <tr>\n",
       "      <th>50%</th>\n",
       "      <td>31004.500000</td>\n",
       "      <td>2.000000</td>\n",
       "      <td>22.000000</td>\n",
       "      <td>6.431000</td>\n",
       "      <td>1876.500000</td>\n",
       "      <td>97777.000000</td>\n",
       "      <td>10741.500000</td>\n",
       "      <td>1.582500e+03</td>\n",
       "      <td>2.000000</td>\n",
       "    </tr>\n",
       "    <tr>\n",
       "      <th>75%</th>\n",
       "      <td>40495.250000</td>\n",
       "      <td>12.000000</td>\n",
       "      <td>26.000000</td>\n",
       "      <td>7.081000</td>\n",
       "      <td>11406.500000</td>\n",
       "      <td>146714.500000</td>\n",
       "      <td>16119.250000</td>\n",
       "      <td>1.158550e+04</td>\n",
       "      <td>23.000000</td>\n",
       "    </tr>\n",
       "    <tr>\n",
       "      <th>max</th>\n",
       "      <td>53094.000000</td>\n",
       "      <td>3057.000000</td>\n",
       "      <td>168.000000</td>\n",
       "      <td>9.131000</td>\n",
       "      <td>997243.000000</td>\n",
       "      <td>195632.000000</td>\n",
       "      <td>21490.000000</td>\n",
       "      <td>3.524109e+06</td>\n",
       "      <td>207772.000000</td>\n",
       "    </tr>\n",
       "  </tbody>\n",
       "</table>\n",
       "</div>"
      ],
      "text/plain": [
       "                 ID      Episodes  Duration_Minutes         Score  \\\n",
       "count  21460.000000  20913.000000      20861.000000  14562.000000   \n",
       "mean   26458.575582     13.272892         23.934135      6.421724   \n",
       "std    17100.477121     48.792326         24.676538      0.910469   \n",
       "min        1.000000      1.000000          1.000000      1.841000   \n",
       "25%     8454.750000      1.000000          5.000000      5.791000   \n",
       "50%    31004.500000      2.000000         22.000000      6.431000   \n",
       "75%    40495.250000     12.000000         26.000000      7.081000   \n",
       "max    53094.000000   3057.000000        168.000000      9.131000   \n",
       "\n",
       "        Scored_Users         Ranked    Popularity       Members      Favorites  \n",
       "count   14562.000000   19536.000000  21460.000000  2.146000e+04   21460.000000  \n",
       "mean    26507.173809   97795.212019  10743.103681  3.926596e+04     462.214865  \n",
       "std     84989.501599   56485.384273   6204.685188  1.566359e+05    4411.931536  \n",
       "min       101.000000      12.000000      1.000000  6.000000e+00       0.000000  \n",
       "25%       418.000000   48879.500000   5369.750000  2.910000e+02       0.000000  \n",
       "50%      1876.500000   97777.000000  10741.500000  1.582500e+03       2.000000  \n",
       "75%     11406.500000  146714.500000  16119.250000  1.158550e+04      23.000000  \n",
       "max    997243.000000  195632.000000  21490.000000  3.524109e+06  207772.000000  "
      ]
     },
     "execution_count": 482,
     "metadata": {},
     "output_type": "execute_result"
    }
   ],
   "source": [
    "anime.describe()"
   ]
  },
  {
   "cell_type": "code",
   "execution_count": null,
   "metadata": {},
   "outputs": [
    {
     "data": {
      "text/plain": [
       "Index(['ID', 'Title', 'Synonyms', 'Japanese', 'English', 'Synopsis', 'Type',\n",
       "       'Episodes', 'Status', 'Start_Aired', 'End_Aired', 'Premiered',\n",
       "       'Broadcast', 'Producers', 'Licensors', 'Studios', 'Source', 'Genres',\n",
       "       'Themes', 'Demographics', 'Duration_Minutes', 'Rating', 'Score',\n",
       "       'Scored_Users', 'Ranked', 'Popularity', 'Members', 'Favorites'],\n",
       "      dtype='object')"
      ]
     },
     "execution_count": 483,
     "metadata": {},
     "output_type": "execute_result"
    }
   ],
   "source": [
    "anime.columns"
   ]
  },
  {
   "cell_type": "code",
   "execution_count": null,
   "metadata": {},
   "outputs": [
    {
     "data": {
      "text/plain": [
       "ID                     0\n",
       "Title                  0\n",
       "Synonyms               0\n",
       "Japanese               0\n",
       "English                0\n",
       "Synopsis               0\n",
       "Type                   0\n",
       "Episodes             547\n",
       "Status                 0\n",
       "Start_Aired            0\n",
       "End_Aired              0\n",
       "Premiered              0\n",
       "Broadcast              0\n",
       "Producers              0\n",
       "Licensors              0\n",
       "Studios                0\n",
       "Source                 0\n",
       "Genres                 0\n",
       "Themes                 0\n",
       "Demographics           0\n",
       "Duration_Minutes     599\n",
       "Rating                 0\n",
       "Score               6898\n",
       "Scored_Users        6898\n",
       "Ranked              1924\n",
       "Popularity             0\n",
       "Members                0\n",
       "Favorites              0\n",
       "dtype: int64"
      ]
     },
     "execution_count": 484,
     "metadata": {},
     "output_type": "execute_result"
    }
   ],
   "source": [
    "anime.isnull().sum()\n"
   ]
  },
  {
   "cell_type": "code",
   "execution_count": null,
   "metadata": {},
   "outputs": [
    {
     "ename": "NameError",
     "evalue": "name 'anime' is not defined",
     "output_type": "error",
     "traceback": [
      "\u001b[1;31m---------------------------------------------------------------------------\u001b[0m",
      "\u001b[1;31mNameError\u001b[0m                                 Traceback (most recent call last)",
      "\u001b[1;32m~\\AppData\\Local\\Temp\\ipykernel_8860\\1747152262.py\u001b[0m in \u001b[0;36m<module>\u001b[1;34m\u001b[0m\n\u001b[0;32m      1\u001b[0m \u001b[1;31m#eliminamos las columnas que no necesitamos. Para no tener que crear nuevo dataframe, usamos inplace=True\u001b[0m\u001b[1;33m\u001b[0m\u001b[1;33m\u001b[0m\u001b[1;33m\u001b[0m\u001b[0m\n\u001b[1;32m----> 2\u001b[1;33m \u001b[0manime\u001b[0m\u001b[1;33m.\u001b[0m\u001b[0mdrop\u001b[0m\u001b[1;33m(\u001b[0m\u001b[1;33m[\u001b[0m\u001b[1;34m\"ID\"\u001b[0m\u001b[1;33m,\u001b[0m \u001b[1;34m\"Synonyms\"\u001b[0m\u001b[1;33m,\u001b[0m \u001b[1;34m\"Japanese\"\u001b[0m\u001b[1;33m,\u001b[0m \u001b[1;34m\"Synopsis\"\u001b[0m\u001b[1;33m,\u001b[0m \u001b[1;34m\"End_Aired\"\u001b[0m\u001b[1;33m,\u001b[0m \u001b[1;34m\"Broadcast\"\u001b[0m\u001b[1;33m,\u001b[0m \u001b[1;34m\"Producers\"\u001b[0m\u001b[1;33m,\u001b[0m \u001b[1;34m\"Licensors\"\u001b[0m\u001b[1;33m,\u001b[0m \u001b[1;34m\"Premiered\"\u001b[0m\u001b[1;33m]\u001b[0m\u001b[1;33m,\u001b[0m \u001b[0maxis\u001b[0m\u001b[1;33m=\u001b[0m \u001b[1;36m1\u001b[0m\u001b[1;33m,\u001b[0m \u001b[0minplace\u001b[0m\u001b[1;33m=\u001b[0m\u001b[1;32mTrue\u001b[0m\u001b[1;33m)\u001b[0m\u001b[1;33m\u001b[0m\u001b[1;33m\u001b[0m\u001b[0m\n\u001b[0m",
      "\u001b[1;31mNameError\u001b[0m: name 'anime' is not defined"
     ]
    }
   ],
   "source": [
    "#eliminamos las columnas que no necesitamos. Para no tener que crear nuevo dataframe, usamos inplace=True\n",
    "anime.drop([\"ID\", \"Synonyms\", \"Japanese\", \"Synopsis\", \"End_Aired\", \"Broadcast\", \"Producers\", \"Licensors\", \"Premiered\"], axis= 1, inplace=True)"
   ]
  },
  {
   "cell_type": "code",
   "execution_count": null,
   "metadata": {},
   "outputs": [
    {
     "data": {
      "text/plain": [
       "Status          \n",
       "Finished Airing     20693\n",
       "Not yet aired         442\n",
       "Currently Airing      325\n",
       "dtype: int64"
      ]
     },
     "execution_count": 486,
     "metadata": {},
     "output_type": "execute_result"
    }
   ],
   "source": [
    "anime[[\"Status\"]].value_counts()"
   ]
  },
  {
   "cell_type": "code",
   "execution_count": null,
   "metadata": {},
   "outputs": [],
   "source": [
    "#Missing values\n",
    "#Escenario 1: Eliminar todas las filas que no tengan score. De poco nos sirven para hacer hipótesis luego, pero representan el 32% de las filas\n",
    "\n",
    "# anime_delete_nan = anime.dropna(subset=[\"Score\", \"Scored_Users\"], axis=0)\n",
    "\n",
    "# #Escenario 2: Fill value con la media de Score y Score_users\n",
    "\n",
    "# anime_fill_mean = anime.fillna({\"Score\": anime[\"Score\"].mean(), \"Scored_Users\": anime[\"Scored_Users\"].mean()})"
   ]
  },
  {
   "cell_type": "code",
   "execution_count": null,
   "metadata": {},
   "outputs": [],
   "source": [
    "# anime.describe()"
   ]
  },
  {
   "cell_type": "code",
   "execution_count": null,
   "metadata": {},
   "outputs": [],
   "source": [
    "# anime_fill_mean.describe()"
   ]
  },
  {
   "cell_type": "code",
   "execution_count": null,
   "metadata": {},
   "outputs": [],
   "source": [
    "# anime_delete_nan.describe()"
   ]
  },
  {
   "cell_type": "code",
   "execution_count": null,
   "metadata": {},
   "outputs": [],
   "source": [
    "#Se decide fill value con la media de Score y Score_users\n",
    "anime.fillna({\"Score\": anime[\"Score\"].mean(), \"Scored_Users\": anime[\"Scored_Users\"].mean()}, inplace=True)"
   ]
  },
  {
   "cell_type": "code",
   "execution_count": null,
   "metadata": {},
   "outputs": [
    {
     "data": {
      "text/html": [
       "<div>\n",
       "<style scoped>\n",
       "    .dataframe tbody tr th:only-of-type {\n",
       "        vertical-align: middle;\n",
       "    }\n",
       "\n",
       "    .dataframe tbody tr th {\n",
       "        vertical-align: top;\n",
       "    }\n",
       "\n",
       "    .dataframe thead th {\n",
       "        text-align: right;\n",
       "    }\n",
       "</style>\n",
       "<table border=\"1\" class=\"dataframe\">\n",
       "  <thead>\n",
       "    <tr style=\"text-align: right;\">\n",
       "      <th></th>\n",
       "      <th>Title</th>\n",
       "      <th>English</th>\n",
       "      <th>Type</th>\n",
       "      <th>Episodes</th>\n",
       "      <th>Status</th>\n",
       "      <th>Start_Aired</th>\n",
       "      <th>Premiered</th>\n",
       "      <th>Studios</th>\n",
       "      <th>Source</th>\n",
       "      <th>Genres</th>\n",
       "      <th>Themes</th>\n",
       "      <th>Demographics</th>\n",
       "      <th>Duration_Minutes</th>\n",
       "      <th>Rating</th>\n",
       "      <th>Score</th>\n",
       "      <th>Scored_Users</th>\n",
       "      <th>Ranked</th>\n",
       "      <th>Popularity</th>\n",
       "      <th>Members</th>\n",
       "      <th>Favorites</th>\n",
       "    </tr>\n",
       "  </thead>\n",
       "  <tbody>\n",
       "    <tr>\n",
       "      <th>24</th>\n",
       "      <td>One Piece</td>\n",
       "      <td>One Piece</td>\n",
       "      <td>TV</td>\n",
       "      <td>NaN</td>\n",
       "      <td>Currently Airing</td>\n",
       "      <td>Oct 20, 1999</td>\n",
       "      <td>Fall 1999</td>\n",
       "      <td>Toei Animation</td>\n",
       "      <td>Manga</td>\n",
       "      <td>Action, Adventure, Fantasy</td>\n",
       "      <td>Unknown</td>\n",
       "      <td>Shounen</td>\n",
       "      <td>24.0</td>\n",
       "      <td>PG-13 - Teens 13 or older</td>\n",
       "      <td>8.671000</td>\n",
       "      <td>121979.000000</td>\n",
       "      <td>582.0</td>\n",
       "      <td>25</td>\n",
       "      <td>1967217</td>\n",
       "      <td>177620</td>\n",
       "    </tr>\n",
       "    <tr>\n",
       "      <th>194</th>\n",
       "      <td>Boruto: Naruto Next Generations</td>\n",
       "      <td>Boruto Naruto Next Generations</td>\n",
       "      <td>TV</td>\n",
       "      <td>NaN</td>\n",
       "      <td>Currently Airing</td>\n",
       "      <td>Apr 5, 2017</td>\n",
       "      <td>Spring 2017</td>\n",
       "      <td>Pierrot</td>\n",
       "      <td>Manga</td>\n",
       "      <td>Action, Adventure, Fantasy</td>\n",
       "      <td>Martial Arts</td>\n",
       "      <td>Shounen</td>\n",
       "      <td>23.0</td>\n",
       "      <td>PG-13 - Teens 13 or older</td>\n",
       "      <td>5.781000</td>\n",
       "      <td>386342.000000</td>\n",
       "      <td>100332.0</td>\n",
       "      <td>195</td>\n",
       "      <td>773091</td>\n",
       "      <td>6687</td>\n",
       "    </tr>\n",
       "    <tr>\n",
       "      <th>362</th>\n",
       "      <td>Chainsaw Man</td>\n",
       "      <td>Chainsaw Man</td>\n",
       "      <td>TV</td>\n",
       "      <td>NaN</td>\n",
       "      <td>Not yet aired</td>\n",
       "      <td>Oct 12, 2022</td>\n",
       "      <td>Fall 2022</td>\n",
       "      <td>MAPPA</td>\n",
       "      <td>Manga</td>\n",
       "      <td>Action, Adventure</td>\n",
       "      <td>Gore</td>\n",
       "      <td>Shounen</td>\n",
       "      <td>NaN</td>\n",
       "      <td>None</td>\n",
       "      <td>6.421724</td>\n",
       "      <td>26507.173809</td>\n",
       "      <td>NaN</td>\n",
       "      <td>364</td>\n",
       "      <td>509913</td>\n",
       "      <td>14181</td>\n",
       "    </tr>\n",
       "    <tr>\n",
       "      <th>626</th>\n",
       "      <td>Detective Conan</td>\n",
       "      <td>Case Closed</td>\n",
       "      <td>TV</td>\n",
       "      <td>NaN</td>\n",
       "      <td>Currently Airing</td>\n",
       "      <td>Jan 8, 1996</td>\n",
       "      <td>Winter 1996</td>\n",
       "      <td>TMS Entertainment</td>\n",
       "      <td>Manga</td>\n",
       "      <td>Adventure, Comedy, Mystery</td>\n",
       "      <td>Detective</td>\n",
       "      <td>Shounen</td>\n",
       "      <td>25.0</td>\n",
       "      <td>PG-13 - Teens 13 or older</td>\n",
       "      <td>8.161000</td>\n",
       "      <td>147429.000000</td>\n",
       "      <td>3662.0</td>\n",
       "      <td>627</td>\n",
       "      <td>316645</td>\n",
       "      <td>13059</td>\n",
       "    </tr>\n",
       "    <tr>\n",
       "      <th>813</th>\n",
       "      <td>Mob Psycho 100 III</td>\n",
       "      <td>Mob Psycho 100 III</td>\n",
       "      <td>TV</td>\n",
       "      <td>NaN</td>\n",
       "      <td>Not yet aired</td>\n",
       "      <td>Oct 6, 2022</td>\n",
       "      <td>Fall 2022</td>\n",
       "      <td>Bones</td>\n",
       "      <td>Web manga</td>\n",
       "      <td>Action, Comedy, Supernatural</td>\n",
       "      <td>Super Power</td>\n",
       "      <td>Unknown</td>\n",
       "      <td>NaN</td>\n",
       "      <td>PG-13 - Teens 13 or older</td>\n",
       "      <td>6.421724</td>\n",
       "      <td>26507.173809</td>\n",
       "      <td>NaN</td>\n",
       "      <td>814</td>\n",
       "      <td>250031</td>\n",
       "      <td>2785</td>\n",
       "    </tr>\n",
       "  </tbody>\n",
       "</table>\n",
       "</div>"
      ],
      "text/plain": [
       "                               Title                         English Type  \\\n",
       "24                         One Piece                       One Piece   TV   \n",
       "194  Boruto: Naruto Next Generations  Boruto Naruto Next Generations   TV   \n",
       "362                     Chainsaw Man                    Chainsaw Man   TV   \n",
       "626                  Detective Conan                     Case Closed   TV   \n",
       "813               Mob Psycho 100 III              Mob Psycho 100 III   TV   \n",
       "\n",
       "     Episodes            Status   Start_Aired    Premiered            Studios  \\\n",
       "24        NaN  Currently Airing  Oct 20, 1999    Fall 1999     Toei Animation   \n",
       "194       NaN  Currently Airing   Apr 5, 2017  Spring 2017            Pierrot   \n",
       "362       NaN     Not yet aired  Oct 12, 2022    Fall 2022              MAPPA   \n",
       "626       NaN  Currently Airing   Jan 8, 1996  Winter 1996  TMS Entertainment   \n",
       "813       NaN     Not yet aired   Oct 6, 2022    Fall 2022              Bones   \n",
       "\n",
       "        Source                        Genres        Themes Demographics  \\\n",
       "24       Manga    Action, Adventure, Fantasy       Unknown      Shounen   \n",
       "194      Manga    Action, Adventure, Fantasy  Martial Arts      Shounen   \n",
       "362      Manga             Action, Adventure          Gore      Shounen   \n",
       "626      Manga    Adventure, Comedy, Mystery     Detective      Shounen   \n",
       "813  Web manga  Action, Comedy, Supernatural   Super Power      Unknown   \n",
       "\n",
       "     Duration_Minutes                     Rating     Score   Scored_Users  \\\n",
       "24               24.0  PG-13 - Teens 13 or older  8.671000  121979.000000   \n",
       "194              23.0  PG-13 - Teens 13 or older  5.781000  386342.000000   \n",
       "362               NaN                       None  6.421724   26507.173809   \n",
       "626              25.0  PG-13 - Teens 13 or older  8.161000  147429.000000   \n",
       "813               NaN  PG-13 - Teens 13 or older  6.421724   26507.173809   \n",
       "\n",
       "       Ranked  Popularity  Members  Favorites  \n",
       "24      582.0          25  1967217     177620  \n",
       "194  100332.0         195   773091       6687  \n",
       "362       NaN         364   509913      14181  \n",
       "626    3662.0         627   316645      13059  \n",
       "813       NaN         814   250031       2785  "
      ]
     },
     "execution_count": 492,
     "metadata": {},
     "output_type": "execute_result"
    }
   ],
   "source": [
    "#Verificamos que los episodios que tienen un NaN son de diferentes tipos ( hay animes, pelis, etc), por lo que se pueden\n",
    "#rellenar con la media\n",
    "anime.loc[anime[\"Episodes\"].isnull()]. head()"
   ]
  },
  {
   "cell_type": "code",
   "execution_count": null,
   "metadata": {},
   "outputs": [
    {
     "data": {
      "text/html": [
       "<div>\n",
       "<style scoped>\n",
       "    .dataframe tbody tr th:only-of-type {\n",
       "        vertical-align: middle;\n",
       "    }\n",
       "\n",
       "    .dataframe tbody tr th {\n",
       "        vertical-align: top;\n",
       "    }\n",
       "\n",
       "    .dataframe thead th {\n",
       "        text-align: right;\n",
       "    }\n",
       "</style>\n",
       "<table border=\"1\" class=\"dataframe\">\n",
       "  <thead>\n",
       "    <tr style=\"text-align: right;\">\n",
       "      <th></th>\n",
       "      <th>Title</th>\n",
       "      <th>English</th>\n",
       "      <th>Type</th>\n",
       "      <th>Episodes</th>\n",
       "      <th>Status</th>\n",
       "      <th>Start_Aired</th>\n",
       "      <th>Premiered</th>\n",
       "      <th>Studios</th>\n",
       "      <th>Source</th>\n",
       "      <th>Genres</th>\n",
       "      <th>Themes</th>\n",
       "      <th>Demographics</th>\n",
       "      <th>Duration_Minutes</th>\n",
       "      <th>Rating</th>\n",
       "      <th>Score</th>\n",
       "      <th>Scored_Users</th>\n",
       "      <th>Ranked</th>\n",
       "      <th>Popularity</th>\n",
       "      <th>Members</th>\n",
       "      <th>Favorites</th>\n",
       "    </tr>\n",
       "  </thead>\n",
       "  <tbody>\n",
       "    <tr>\n",
       "      <th>362</th>\n",
       "      <td>Chainsaw Man</td>\n",
       "      <td>Chainsaw Man</td>\n",
       "      <td>TV</td>\n",
       "      <td>NaN</td>\n",
       "      <td>Not yet aired</td>\n",
       "      <td>Oct 12, 2022</td>\n",
       "      <td>Fall 2022</td>\n",
       "      <td>MAPPA</td>\n",
       "      <td>Manga</td>\n",
       "      <td>Action, Adventure</td>\n",
       "      <td>Gore</td>\n",
       "      <td>Shounen</td>\n",
       "      <td>NaN</td>\n",
       "      <td>None</td>\n",
       "      <td>6.421724</td>\n",
       "      <td>26507.173809</td>\n",
       "      <td>NaN</td>\n",
       "      <td>364</td>\n",
       "      <td>509913</td>\n",
       "      <td>14181</td>\n",
       "    </tr>\n",
       "    <tr>\n",
       "      <th>813</th>\n",
       "      <td>Mob Psycho 100 III</td>\n",
       "      <td>Mob Psycho 100 III</td>\n",
       "      <td>TV</td>\n",
       "      <td>NaN</td>\n",
       "      <td>Not yet aired</td>\n",
       "      <td>Oct 6, 2022</td>\n",
       "      <td>Fall 2022</td>\n",
       "      <td>Bones</td>\n",
       "      <td>Web manga</td>\n",
       "      <td>Action, Comedy, Supernatural</td>\n",
       "      <td>Super Power</td>\n",
       "      <td>Unknown</td>\n",
       "      <td>NaN</td>\n",
       "      <td>PG-13 - Teens 13 or older</td>\n",
       "      <td>6.421724</td>\n",
       "      <td>26507.173809</td>\n",
       "      <td>NaN</td>\n",
       "      <td>814</td>\n",
       "      <td>250031</td>\n",
       "      <td>2785</td>\n",
       "    </tr>\n",
       "    <tr>\n",
       "      <th>833</th>\n",
       "      <td>Tate no Yuusha no Nariagari Season 3</td>\n",
       "      <td>The Rising of the Shield Hero Season 3</td>\n",
       "      <td>TV</td>\n",
       "      <td>NaN</td>\n",
       "      <td>Not yet aired</td>\n",
       "      <td>Unknown</td>\n",
       "      <td>Unknown</td>\n",
       "      <td>Kinema Citrus</td>\n",
       "      <td>Light novel</td>\n",
       "      <td>Action, Adventure, Drama, Fantasy</td>\n",
       "      <td>Isekai</td>\n",
       "      <td>Unknown</td>\n",
       "      <td>NaN</td>\n",
       "      <td>PG-13 - Teens 13 or older</td>\n",
       "      <td>6.421724</td>\n",
       "      <td>26507.173809</td>\n",
       "      <td>NaN</td>\n",
       "      <td>834</td>\n",
       "      <td>244491</td>\n",
       "      <td>2855</td>\n",
       "    </tr>\n",
       "    <tr>\n",
       "      <th>890</th>\n",
       "      <td>Spy x Family Part 2</td>\n",
       "      <td>Unknown</td>\n",
       "      <td>TV</td>\n",
       "      <td>13.0</td>\n",
       "      <td>Not yet aired</td>\n",
       "      <td>Oct 1, 2022</td>\n",
       "      <td>Fall 2022</td>\n",
       "      <td>Wit Studio, CloverWorks</td>\n",
       "      <td>Manga</td>\n",
       "      <td>Action, Comedy</td>\n",
       "      <td>Childcare</td>\n",
       "      <td>Shounen</td>\n",
       "      <td>NaN</td>\n",
       "      <td>PG-13 - Teens 13 or older</td>\n",
       "      <td>6.421724</td>\n",
       "      <td>26507.173809</td>\n",
       "      <td>NaN</td>\n",
       "      <td>891</td>\n",
       "      <td>229447</td>\n",
       "      <td>1628</td>\n",
       "    </tr>\n",
       "    <tr>\n",
       "      <th>915</th>\n",
       "      <td>Boku no Hero Academia 6th Season</td>\n",
       "      <td>My Hero Academia Season 6</td>\n",
       "      <td>TV</td>\n",
       "      <td>NaN</td>\n",
       "      <td>Not yet aired</td>\n",
       "      <td>Oct 1, 2022</td>\n",
       "      <td>Fall 2022</td>\n",
       "      <td>Bones</td>\n",
       "      <td>Manga</td>\n",
       "      <td>Action</td>\n",
       "      <td>School, Super Power</td>\n",
       "      <td>Shounen</td>\n",
       "      <td>NaN</td>\n",
       "      <td>PG-13 - Teens 13 or older</td>\n",
       "      <td>6.421724</td>\n",
       "      <td>26507.173809</td>\n",
       "      <td>NaN</td>\n",
       "      <td>916</td>\n",
       "      <td>223328</td>\n",
       "      <td>1877</td>\n",
       "    </tr>\n",
       "  </tbody>\n",
       "</table>\n",
       "</div>"
      ],
      "text/plain": [
       "                                    Title  \\\n",
       "362                          Chainsaw Man   \n",
       "813                    Mob Psycho 100 III   \n",
       "833  Tate no Yuusha no Nariagari Season 3   \n",
       "890                   Spy x Family Part 2   \n",
       "915      Boku no Hero Academia 6th Season   \n",
       "\n",
       "                                    English Type  Episodes         Status  \\\n",
       "362                            Chainsaw Man   TV       NaN  Not yet aired   \n",
       "813                      Mob Psycho 100 III   TV       NaN  Not yet aired   \n",
       "833  The Rising of the Shield Hero Season 3   TV       NaN  Not yet aired   \n",
       "890                                 Unknown   TV      13.0  Not yet aired   \n",
       "915               My Hero Academia Season 6   TV       NaN  Not yet aired   \n",
       "\n",
       "      Start_Aired  Premiered                  Studios       Source  \\\n",
       "362  Oct 12, 2022  Fall 2022                    MAPPA        Manga   \n",
       "813   Oct 6, 2022  Fall 2022                    Bones    Web manga   \n",
       "833       Unknown    Unknown            Kinema Citrus  Light novel   \n",
       "890   Oct 1, 2022  Fall 2022  Wit Studio, CloverWorks        Manga   \n",
       "915   Oct 1, 2022  Fall 2022                    Bones        Manga   \n",
       "\n",
       "                                Genres               Themes Demographics  \\\n",
       "362                  Action, Adventure                 Gore      Shounen   \n",
       "813       Action, Comedy, Supernatural          Super Power      Unknown   \n",
       "833  Action, Adventure, Drama, Fantasy               Isekai      Unknown   \n",
       "890                     Action, Comedy            Childcare      Shounen   \n",
       "915                             Action  School, Super Power      Shounen   \n",
       "\n",
       "     Duration_Minutes                     Rating     Score  Scored_Users  \\\n",
       "362               NaN                       None  6.421724  26507.173809   \n",
       "813               NaN  PG-13 - Teens 13 or older  6.421724  26507.173809   \n",
       "833               NaN  PG-13 - Teens 13 or older  6.421724  26507.173809   \n",
       "890               NaN  PG-13 - Teens 13 or older  6.421724  26507.173809   \n",
       "915               NaN  PG-13 - Teens 13 or older  6.421724  26507.173809   \n",
       "\n",
       "     Ranked  Popularity  Members  Favorites  \n",
       "362     NaN         364   509913      14181  \n",
       "813     NaN         814   250031       2785  \n",
       "833     NaN         834   244491       2855  \n",
       "890     NaN         891   229447       1628  \n",
       "915     NaN         916   223328       1877  "
      ]
     },
     "execution_count": 493,
     "metadata": {},
     "output_type": "execute_result"
    }
   ],
   "source": [
    "#Verificamos que la duración que tiene un NaN son de diferentes tipos, por lo que se pueden rellenar con la media\n",
    "anime.loc[anime[\"Duration_Minutes\"].isnull()].head()"
   ]
  },
  {
   "cell_type": "code",
   "execution_count": null,
   "metadata": {},
   "outputs": [],
   "source": [
    "#Quiero comprobar si rellenar los NaN de \"Episode\" con la media es realista, o va a afectar a muchas películas.\n",
    "#en Type, cuántos tipos hay y cuáles son Unknown?\n",
    "# anime[\"Type\"].value_counts()\n",
    "# anime[anime[\"Type\"] == \"Unknown\"]\n",
    "# Descomentando el código anterior, vemos que solo hay 45 unknowns. Buscando unos cuantos en google vemos que hay series en su mayoría.\n",
    "#Resumiendo: Es buena idea rellenar los Nan de \"Episode\" con la media de la columna"
   ]
  },
  {
   "cell_type": "code",
   "execution_count": null,
   "metadata": {},
   "outputs": [],
   "source": [
    "anime.fillna({\"Episodes\": anime[\"Episodes\"].mean(), \"Duration_Minutes\": anime[\"Duration_Minutes\"].mean()}, inplace=True)"
   ]
  },
  {
   "cell_type": "code",
   "execution_count": null,
   "metadata": {},
   "outputs": [],
   "source": [
    "#Verificamos la columna \"Ranked\". Justo los que no están en el ranking, tienen muchísimos Unknowns en otras columnas. Mejor eliminarlos.\n",
    "# ranked_nan = anime[anime['Ranked'].apply(lambda x: np.isnan(x))]\n",
    "# ranked_nan"
   ]
  },
  {
   "cell_type": "code",
   "execution_count": null,
   "metadata": {},
   "outputs": [
    {
     "data": {
      "text/plain": [
       "Title               0\n",
       "English             0\n",
       "Type                0\n",
       "Episodes            0\n",
       "Status              0\n",
       "Start_Aired         0\n",
       "Premiered           0\n",
       "Studios             0\n",
       "Source              0\n",
       "Genres              0\n",
       "Themes              0\n",
       "Demographics        0\n",
       "Duration_Minutes    0\n",
       "Rating              0\n",
       "Score               0\n",
       "Scored_Users        0\n",
       "Ranked              0\n",
       "Popularity          0\n",
       "Members             0\n",
       "Favorites           0\n",
       "dtype: int64"
      ]
     },
     "execution_count": 497,
     "metadata": {},
     "output_type": "execute_result"
    }
   ],
   "source": [
    "#Eliminamos los Nan de \"Ranked\"\n",
    "anime.dropna(subset=[\"Ranked\"], axis=0, inplace=True)\n",
    "anime.isnull().sum()"
   ]
  },
  {
   "cell_type": "code",
   "execution_count": null,
   "metadata": {},
   "outputs": [
    {
     "data": {
      "text/plain": [
       "Demographics \n",
       "Unknown          11617\n",
       "Kids              4219\n",
       "Shounen           1972\n",
       "Seinen             874\n",
       "Shoujo             662\n",
       "Josei               92\n",
       "Kids, Shounen       66\n",
       "Kids, Shoujo        32\n",
       "Josei, Shoujo        1\n",
       "Kids, Seinen         1\n",
       "dtype: int64"
      ]
     },
     "execution_count": 498,
     "metadata": {},
     "output_type": "execute_result"
    }
   ],
   "source": [
    "anime[[\"Demographics\"]].value_counts()\n",
    "#Hay un montón de Unknowns!!!"
   ]
  },
  {
   "cell_type": "code",
   "execution_count": null,
   "metadata": {},
   "outputs": [],
   "source": [
    "anime = anime.drop(index=anime.loc[anime['Demographics'] == 'Unknown'].index)"
   ]
  },
  {
   "cell_type": "code",
   "execution_count": null,
   "metadata": {},
   "outputs": [
    {
     "data": {
      "text/plain": [
       "Kids       4318\n",
       "Shounen    1972\n",
       "Seinen      874\n",
       "Shoujo      662\n",
       "Josei        93\n",
       "Name: Demographics, dtype: int64"
      ]
     },
     "execution_count": 500,
     "metadata": {},
     "output_type": "execute_result"
    }
   ],
   "source": [
    "#Vamos a intentar dejar solo Kids, Shounen, Seinen, Shoujo y Josei. Las que tienen varias parabras, las unimos a la primera \n",
    "\n",
    "anime[\"Demographics\"] = anime[\"Demographics\"].str.replace('^Kids.*', 'Kids').str.replace('^Josei.*', 'Josei')\n",
    "anime[\"Demographics\"].value_counts()"
   ]
  },
  {
   "cell_type": "code",
   "execution_count": null,
   "metadata": {},
   "outputs": [
    {
     "data": {
      "text/plain": [
       "Themes                                \n",
       "Unknown                                   3701\n",
       "Music                                      603\n",
       "School                                     314\n",
       "Historical                                 254\n",
       "Anthropomorphic                            210\n",
       "                                          ... \n",
       "Adult Cast, Psychological, Team Sports       1\n",
       "Historical, Military, Mythology              1\n",
       "Historical, Mythology, School                1\n",
       "Historical, Mythology, Space                 1\n",
       "Historical, Racing                           1\n",
       "Length: 442, dtype: int64"
      ]
     },
     "execution_count": 501,
     "metadata": {},
     "output_type": "execute_result"
    }
   ],
   "source": [
    "anime[[\"Themes\"]].value_counts()"
   ]
  },
  {
   "cell_type": "code",
   "execution_count": null,
   "metadata": {},
   "outputs": [
    {
     "data": {
      "text/plain": [
       "Unknown              3701\n",
       "Music                 656\n",
       "Historical            428\n",
       "School                413\n",
       "Mecha                 302\n",
       "Anthropomorphic       243\n",
       "Educational           181\n",
       "Adult Cast            152\n",
       "Super Power           136\n",
       "Mythology             125\n",
       "Martial Arts          118\n",
       "Mahou Shoujo          116\n",
       "Detective              95\n",
       "Harem                  94\n",
       "Gag Humor              92\n",
       "Team Sports            90\n",
       "Racing                 89\n",
       "Strategy Game          86\n",
       "Parody                 69\n",
       "Idols                  58\n",
       "Combat Sports          58\n",
       "Iyashikei              57\n",
       "Gore                   50\n",
       "Space                  45\n",
       "CGDCT                  42\n",
       "Psychological          41\n",
       "Military               40\n",
       "Delinquents            31\n",
       "Isekai                 30\n",
       "Childcare              28\n",
       "Vampire                28\n",
       "Love Polygon           26\n",
       "Pets                   22\n",
       "Reverse Harem          20\n",
       "Organized Crime        17\n",
       "Crossdressing          17\n",
       "Otaku Culture          14\n",
       "Magical Sex Shift      14\n",
       "Workplace              14\n",
       "Romantic Subtext       12\n",
       "High Stakes Game       12\n",
       "Time Travel            10\n",
       "Performing Arts        10\n",
       "Samurai                10\n",
       "Survival                6\n",
       "Visual Arts             5\n",
       "Reincarnation           5\n",
       "Showbiz                 4\n",
       "Medical                 4\n",
       "Video Game              3\n",
       "Name: Themes, dtype: int64"
      ]
     },
     "execution_count": 502,
     "metadata": {},
     "output_type": "execute_result"
    }
   ],
   "source": [
    "#Vamos a intentar dejar solo Temas con 1 palabra. Las que tienen varias parabras, las unimos a la primera. No sé hacerlo todo junto, así que he tenido que hacerlo uno por uno. \n",
    "#Explicacion del código: con .str.replace pedimos que reemplace una palabra por otra.\n",
    "#^ indica el inicio de la línea o cadena de texto. Por lo tanto, ^Martial Arts significa \"todas las líneas o cadenas de texto que comienzan con 'Martial Arts'\".\n",
    "# . significa cualquier caracter excepto el salto de línea. Por lo tanto, ^Martial Arts.* significa \"todas las líneas o cadenas de texto que comienzan con 'Martial Arts'\n",
    "# seguido de cualquier cosa\".\n",
    "# * significa cero o más repeticiones del elemento anterior. Por lo tanto, ^Martial Arts.* significa \"todas las líneas o cadenas de texto que comienzan con 'Martial Arts'\n",
    "# seguido de cualquier cosa, incluyendo la ausencia de cualquier cosa\". \n",
    "\n",
    "anime['Themes'] = anime['Themes'].str.replace('^Martial Arts.*', 'Martial Arts').str.replace('^Historical.*', 'Historical').str.replace('^Harem.*', 'Harem').str.replace('^Mecha.*',\n",
    "                     'Mecha').str.replace('^Crossdressing.*','Crossdressing').str.replace('^Educational.*', 'Educational').str.replace('^Adult Cast.*', 'Adult Cast').str.replace('^Gag Humor.*',\n",
    "                     'Gag Humor').str.replace('^Gore.*', 'Gore').str.replace('^CGDCT.*', 'CGDCT').str.replace('^Detective.*', 'Detective').str.replace('^Mythology.*', \n",
    "                    'Mythology').str.replace('^Anthropomorphic.*', 'Anthropomorphic').str.replace('^Magical Sex Shift.*', 'Magical Sex Shift').str.replace('^Iyashikei.*', 'Iyashikei').str.replace('^Idols.*',\n",
    "                     'Idols').str.replace('^Space.*', 'Space').str.replace('^Music.*', 'Music').str.replace('^Mahou Shoujo.*', 'Mahou Shoujo').str.replace('^School.*', 'School').str.replace('^Combat Sports.*',\n",
    "                     'Combat Sports').str.replace('^Isekai.*', 'Isekai').str.replace('^Reverse Harem.*', 'Reverse Harem').str.replace('^Childcare.*', 'Childcare').str.replace('^Strategy Game.*',\n",
    "                    'Strategy Game').str.replace('^Psychological.*', 'Psychological').str.replace('^Racing.*', 'Racing').str.replace('^Love Polygon.*', 'Love Polygon').str.replace('^Delinquents.*',\n",
    "                     'Delinquents').str.replace('^Parody.*', 'Parody').str.replace('^Military.*', 'Military').str.replace('^Organized Crime.*', 'Organized Crime').str.replace('^Otaku Culture.*',\n",
    "                    'Otaku Culture').str.replace('^High Stakes Game.*', 'High Stakes Game').str.replace('^Survival.*', 'Survival').str.replace('^Pets.*', 'Pets').str.replace('^Reincarnation.*',\n",
    "                     'Reincarnation').str.replace('^Samurai.*', 'Samurai').str.replace('^Performing Arts.*', 'Performing Arts').str.replace('^Showbiz.*', 'Showbiz').str.replace('^Super Power.*',\n",
    "                     'Super Power').str.replace('^Romantic Subtext.*', 'Romantic Subtext').str.replace('^Medical.*', 'Medical')\n",
    "anime[\"Themes\"].value_counts()"
   ]
  },
  {
   "cell_type": "code",
   "execution_count": null,
   "metadata": {},
   "outputs": [
    {
     "data": {
      "text/plain": [
       "Genres                                              \n",
       "Unknown                                                 1975\n",
       "Comedy                                                   566\n",
       "Fantasy                                                  457\n",
       "Adventure, Fantasy                                       215\n",
       "Drama                                                    204\n",
       "                                                        ... \n",
       "Action, Drama, Horror, Romance, Supernatural               1\n",
       "Comedy, Fantasy, Gourmet                                   1\n",
       "Comedy, Fantasy, Horror, Supernatural                      1\n",
       "Action, Drama, Horror, Romance, Sci-Fi, Supernatural       1\n",
       "Adventure, Fantasy, Horror, Sci-Fi, Supernatural           1\n",
       "Length: 475, dtype: int64"
      ]
     },
     "execution_count": 503,
     "metadata": {},
     "output_type": "execute_result"
    }
   ],
   "source": [
    "anime[[\"Genres\"]].value_counts()"
   ]
  },
  {
   "cell_type": "code",
   "execution_count": null,
   "metadata": {},
   "outputs": [],
   "source": [
    "def genresclean(animecol):\n",
    "    animecol = animecol.str.replace('^Adventure.*', 'Adventure').str.replace('^Action.*', 'Action').str.replace('^Comedy.*', 'Comedy').str.replace('^Fantasy.*',\n",
    "                'Fantasy').str.replace('^Mystery.*', 'Mystery').str.replace('^Drama.*', 'Drama').str.replace('^Avant Garde.*', 'Avant Garde').str.replace('^Boys Love.*',\n",
    "                'Boys Love').str.replace('^Girls Love.*', 'Girls Love').str.replace('^Sports.*', 'Sports').str.replace('^Horror.*', 'Horror').str.replace('^Romance.*',\n",
    "                'Romance').str.replace('^Award Winning.*', 'Award Winning').str.replace('^Gourmet.*', 'Gourmet').str.replace('^Sci-Fi.*', 'Sci-Fi').str.replace('^Slice of Life.*',\n",
    "                'Slice of Life').str.replace('^Supernatural.*', 'Supernatural')\n",
    "    return animecol\n"
   ]
  },
  {
   "cell_type": "code",
   "execution_count": null,
   "metadata": {},
   "outputs": [],
   "source": [
    "anime[\"Genres\"] = anime[\"Genres\"].apply(genresclean)"
   ]
  },
  {
   "cell_type": "code",
   "execution_count": null,
   "metadata": {},
   "outputs": [
    {
     "data": {
      "text/plain": [
       "Unknown          1975\n",
       "Comedy           1646\n",
       "Action           1561\n",
       "Adventure        1055\n",
       "Fantasy           536\n",
       "Drama             461\n",
       "Sports            175\n",
       "Slice of Life     147\n",
       "Sci-Fi            117\n",
       "Romance            94\n",
       "Mystery            46\n",
       "Supernatural       34\n",
       "Horror             23\n",
       "Gourmet            22\n",
       "Boys Love          11\n",
       "Avant Garde         6\n",
       "Suspense            4\n",
       "Ecchi               3\n",
       "Girls Love          3\n",
       "Name: Genres, dtype: int64"
      ]
     },
     "execution_count": 504,
     "metadata": {},
     "output_type": "execute_result"
    }
   ],
   "source": [
    "anime[\"Genres\"]= anime[\"Genres\"].str.replace('^Adventure.*', 'Adventure').str.replace('^Action.*', 'Action').str.replace('^Comedy.*', 'Comedy').str.replace('^Fantasy.*',\n",
    "                'Fantasy').str.replace('^Mystery.*', 'Mystery').str.replace('^Drama.*', 'Drama').str.replace('^Avant Garde.*', 'Avant Garde').str.replace('^Boys Love.*',\n",
    "                'Boys Love').str.replace('^Girls Love.*', 'Girls Love').str.replace('^Sports.*', 'Sports').str.replace('^Horror.*', 'Horror').str.replace('^Romance.*',\n",
    "                'Romance').str.replace('^Award Winning.*', 'Award Winning').str.replace('^Gourmet.*', 'Gourmet').str.replace('^Sci-Fi.*', 'Sci-Fi').str.replace('^Slice of Life.*',\n",
    "                'Slice of Life').str.replace('^Supernatural.*', 'Supernatural')\n",
    "anime[\"Genres\"].value_counts()"
   ]
  },
  {
   "cell_type": "code",
   "execution_count": null,
   "metadata": {},
   "outputs": [
    {
     "data": {
      "text/plain": [
       "Unknown         126\n",
       "2020             56\n",
       "2010             50\n",
       "2011             43\n",
       "2005             41\n",
       "               ... \n",
       "Jun 28, 2009      1\n",
       "Jul 29, 2019      1\n",
       "Jun 22, 1985      1\n",
       "Jul 11, 2009      1\n",
       "Nov 10, 2018      1\n",
       "Name: Start_Aired, Length: 4348, dtype: int64"
      ]
     },
     "execution_count": 505,
     "metadata": {},
     "output_type": "execute_result"
    }
   ],
   "source": [
    "anime[\"Start_Aired\"].value_counts()\n"
   ]
  },
  {
   "cell_type": "code",
   "execution_count": null,
   "metadata": {},
   "outputs": [
    {
     "data": {
      "text/plain": [
       "13116    Unknown\n",
       "13151    Unknown\n",
       "13762    Unknown\n",
       "14133    Unknown\n",
       "14782    Unknown\n",
       "          ...   \n",
       "21426    Unknown\n",
       "21446    Unknown\n",
       "21447    Unknown\n",
       "21449    Unknown\n",
       "21451    Unknown\n",
       "Name: Start_Aired, Length: 126, dtype: object"
      ]
     },
     "execution_count": 510,
     "metadata": {},
     "output_type": "execute_result"
    }
   ],
   "source": [
    "mask=(anime[\"Start_Aired\"] == 'Unknown')\n",
    "anime[\"Start_Aired\"].loc[mask]"
   ]
  },
  {
   "cell_type": "code",
   "execution_count": null,
   "metadata": {},
   "outputs": [
    {
     "data": {
      "text/plain": [
       "Series([], Name: Start_Aired, dtype: object)"
      ]
     },
     "execution_count": 513,
     "metadata": {},
     "output_type": "execute_result"
    }
   ],
   "source": [
    "mask=(anime[\"Start_Aired\"] == \"1900\")\n",
    "anime[\"Start_Aired\"].loc[mask]"
   ]
  },
  {
   "cell_type": "code",
   "execution_count": null,
   "metadata": {},
   "outputs": [],
   "source": [
    "for i in anime[\"Start_Aired\"]:\n",
    "    if i == 'Unknown':\n",
    "        anime[\"Start_Aired\"][anime[\"Start_Aired\"] == 'Unknown'] = 1900"
   ]
  },
  {
   "cell_type": "code",
   "execution_count": null,
   "metadata": {},
   "outputs": [
    {
     "data": {
      "text/plain": [
       "5129    Apr-03\n",
       "Name: Start_Aired, dtype: object"
      ]
     },
     "execution_count": 528,
     "metadata": {},
     "output_type": "execute_result"
    }
   ],
   "source": [
    "mask=(anime[\"Start_Aired\"] == 'Apr-03')\n",
    "anime[\"Start_Aired\"].loc[mask]"
   ]
  },
  {
   "cell_type": "code",
   "execution_count": null,
   "metadata": {},
   "outputs": [
    {
     "data": {
      "text/plain": [
       "1900            126\n",
       "2020             56\n",
       "2010             50\n",
       "2011             43\n",
       "2005             41\n",
       "               ... \n",
       "Jun 28, 2009      1\n",
       "Jul 29, 2019      1\n",
       "Jun 22, 1985      1\n",
       "Jul 11, 2009      1\n",
       "Nov 10, 2018      1\n",
       "Name: Start_Aired, Length: 4348, dtype: int64"
      ]
     },
     "execution_count": 516,
     "metadata": {},
     "output_type": "execute_result"
    }
   ],
   "source": [
    "anime[\"Start_Aired\"].value_counts()"
   ]
  },
  {
   "cell_type": "code",
   "execution_count": null,
   "metadata": {},
   "outputs": [
    {
     "data": {
      "text/plain": [
       "2009"
      ]
     },
     "execution_count": 526,
     "metadata": {},
     "output_type": "execute_result"
    }
   ],
   "source": [
    "int(anime[\"Start_Aired\"].iloc[2].split()[-1])"
   ]
  },
  {
   "cell_type": "code",
   "execution_count": null,
   "metadata": {},
   "outputs": [],
   "source": [
    "errores = pd.DataFrame()\n",
    "for pos in range(len(anime[\"Start_Aired\"])):\n",
    "    try:\n",
    "        if type(anime[\"Start_Aired\"].iloc[pos]) == str:\n",
    "            # anime[\"Start_Aired\"][pos]\n",
    "            anime[\"Start_Aired\"].iloc[pos]=int(anime[\"Start_Aired\"].iloc[pos].split()[-1])\n",
    "    except:\n",
    "        x=anime[\"Start_Aired\"].iloc[pos]\n",
    "        errores.append([pos,x])\n",
    "\n"
   ]
  },
  {
   "cell_type": "code",
   "execution_count": null,
   "metadata": {},
   "outputs": [
    {
     "data": {
      "text/html": [
       "<div>\n",
       "<style scoped>\n",
       "    .dataframe tbody tr th:only-of-type {\n",
       "        vertical-align: middle;\n",
       "    }\n",
       "\n",
       "    .dataframe tbody tr th {\n",
       "        vertical-align: top;\n",
       "    }\n",
       "\n",
       "    .dataframe thead th {\n",
       "        text-align: right;\n",
       "    }\n",
       "</style>\n",
       "<table border=\"1\" class=\"dataframe\">\n",
       "  <thead>\n",
       "    <tr style=\"text-align: right;\">\n",
       "      <th></th>\n",
       "    </tr>\n",
       "  </thead>\n",
       "  <tbody>\n",
       "  </tbody>\n",
       "</table>\n",
       "</div>"
      ],
      "text/plain": [
       "Empty DataFrame\n",
       "Columns: []\n",
       "Index: []"
      ]
     },
     "execution_count": 530,
     "metadata": {},
     "output_type": "execute_result"
    }
   ],
   "source": [
    "errores"
   ]
  },
  {
   "cell_type": "code",
   "execution_count": null,
   "metadata": {},
   "outputs": [
    {
     "data": {
      "text/plain": [
       "2016      341\n",
       "2014      334\n",
       "2017      317\n",
       "2012      307\n",
       "2015      303\n",
       "         ... \n",
       "Mar-57      1\n",
       "Oct-95      1\n",
       "Apr-80      1\n",
       "Apr-95      1\n",
       "Jun-19      1\n",
       "Name: Start_Aired, Length: 129, dtype: int64"
      ]
     },
     "execution_count": 531,
     "metadata": {},
     "output_type": "execute_result"
    }
   ],
   "source": [
    "#19 siempre es 2019. Anime comienza en 1917.\n",
    "\n",
    "anime[\"Start_Aired\"].value_counts()"
   ]
  },
  {
   "cell_type": "code",
   "execution_count": null,
   "metadata": {},
   "outputs": [],
   "source": [
    "errores = pd.DataFrame()\n",
    "for pos in range(len(anime[\"Start_Aired\"])):\n",
    "    try:\n",
    "        if type(anime[\"Start_Aired\"].iloc[pos]) == str:\n",
    "            aniored=int(anime[\"Start_Aired\"].iloc[pos].split(\"-\")[-1])\n",
    "            if aniored<=24:\n",
    "                anio=2000+aniored\n",
    "            else:\n",
    "                anio=1900+aniored          \n",
    "            anime[\"Start_Aired\"].iloc[pos]=anio\n",
    "    except:\n",
    "        x=anime[\"Start_Aired\"].iloc[pos]\n",
    "        errores.append([pos,x])"
   ]
  },
  {
   "cell_type": "code",
   "execution_count": null,
   "metadata": {},
   "outputs": [
    {
     "data": {
      "text/plain": [
       "2016    341\n",
       "2014    334\n",
       "2017    318\n",
       "2012    307\n",
       "2018    305\n",
       "       ... \n",
       "1933      1\n",
       "1940      1\n",
       "1943      1\n",
       "1951      1\n",
       "1952      1\n",
       "Name: Start_Aired, Length: 92, dtype: int64"
      ]
     },
     "execution_count": 533,
     "metadata": {},
     "output_type": "execute_result"
    }
   ],
   "source": [
    "anime[\"Start_Aired\"].value_counts()"
   ]
  },
  {
   "cell_type": "code",
   "execution_count": null,
   "metadata": {},
   "outputs": [
    {
     "name": "stdout",
     "output_type": "stream",
     "text": [
      "<class 'str'>\n"
     ]
    }
   ],
   "source": [
    "#Eliminamos las filas donde Start_Aired == Unknown\n",
    "# anime = anime.drop(index=anime.loc[anime['Start_Aired'] == 'Unknown'].index)\n",
    "#No funciona, nos elimina también los valores donde aparecen solo años. ¿Mejor cambiar todos los Unknown por un outlier, en plan 1900?\n",
    "print(type(anime[\"Start_Aired\"][0]))\n"
   ]
  },
  {
   "cell_type": "code",
   "execution_count": null,
   "metadata": {},
   "outputs": [
    {
     "data": {
      "text/plain": [
       "Unknown         126\n",
       "2020             56\n",
       "2010             50\n",
       "2011             43\n",
       "2005             41\n",
       "               ... \n",
       "Jun 28, 2009      1\n",
       "Jul 29, 2019      1\n",
       "Jun 22, 1985      1\n",
       "Jul 11, 2009      1\n",
       "Nov 10, 2018      1\n",
       "Name: Start_Aired, Length: 4348, dtype: int64"
      ]
     },
     "execution_count": 507,
     "metadata": {},
     "output_type": "execute_result"
    }
   ],
   "source": [
    "anime[\"Start_Aired\"].value_counts()\n",
    "#¿No debería salir 126 de 1900?... No entiendo nada... Y si hago .info() esta columna ya no es int, sino object... pero lo cambié por un número..."
   ]
  },
  {
   "cell_type": "code",
   "execution_count": null,
   "metadata": {},
   "outputs": [
    {
     "data": {
      "text/plain": [
       "<bound method IndexOpsMixin.value_counts of 0         Apr 7, 2013\n",
       "1         Oct 4, 2006\n",
       "2         Apr 5, 2009\n",
       "3         Oct 5, 2015\n",
       "5         Apr 3, 2016\n",
       "             ...     \n",
       "21452            2013\n",
       "21453            2014\n",
       "21455    May 12, 2018\n",
       "21456    Aug 22, 2020\n",
       "21459    Nov 10, 2018\n",
       "Name: Start_Aired, Length: 7919, dtype: object>"
      ]
     },
     "execution_count": 508,
     "metadata": {},
     "output_type": "execute_result"
    }
   ],
   "source": [
    "#Vamos a intentar mantener sólo el año de cada fila\n",
    "\n",
    "# anime[\"Start_Aired\"] =anime[\"Start_Aired\"].replace('(\\d{4})')\n",
    "anime[\"Start_Aired\"].value_counts"
   ]
  },
  {
   "cell_type": "code",
   "execution_count": null,
   "metadata": {},
   "outputs": [
    {
     "ename": "ValueError",
     "evalue": "invalid literal for int() with base 10: 'Apr 7, 2013'",
     "output_type": "error",
     "traceback": [
      "\u001b[1;31m---------------------------------------------------------------------------\u001b[0m",
      "\u001b[1;31mValueError\u001b[0m                                Traceback (most recent call last)",
      "\u001b[1;32m~\\AppData\\Local\\Temp\\ipykernel_40864\\1185064881.py\u001b[0m in \u001b[0;36m<module>\u001b[1;34m\u001b[0m\n\u001b[1;32m----> 1\u001b[1;33m \u001b[0manime\u001b[0m\u001b[1;33m[\u001b[0m\u001b[1;34m\"Start_Aired\"\u001b[0m\u001b[1;33m]\u001b[0m \u001b[1;33m=\u001b[0m \u001b[0manime\u001b[0m\u001b[1;33m[\u001b[0m\u001b[1;34m\"Start_Aired\"\u001b[0m\u001b[1;33m]\u001b[0m\u001b[1;33m.\u001b[0m\u001b[0mastype\u001b[0m\u001b[1;33m(\u001b[0m\u001b[1;34m\"int64\"\u001b[0m\u001b[1;33m)\u001b[0m\u001b[1;33m\u001b[0m\u001b[1;33m\u001b[0m\u001b[0m\n\u001b[0m",
      "\u001b[1;32mc:\\Users\\lydia\\AppData\\Local\\Programs\\Python\\Python37\\lib\\site-packages\\pandas\\core\\generic.py\u001b[0m in \u001b[0;36mastype\u001b[1;34m(self, dtype, copy, errors)\u001b[0m\n\u001b[0;32m   5813\u001b[0m         \u001b[1;32melse\u001b[0m\u001b[1;33m:\u001b[0m\u001b[1;33m\u001b[0m\u001b[1;33m\u001b[0m\u001b[0m\n\u001b[0;32m   5814\u001b[0m             \u001b[1;31m# else, only a single dtype is given\u001b[0m\u001b[1;33m\u001b[0m\u001b[1;33m\u001b[0m\u001b[1;33m\u001b[0m\u001b[0m\n\u001b[1;32m-> 5815\u001b[1;33m             \u001b[0mnew_data\u001b[0m \u001b[1;33m=\u001b[0m \u001b[0mself\u001b[0m\u001b[1;33m.\u001b[0m\u001b[0m_mgr\u001b[0m\u001b[1;33m.\u001b[0m\u001b[0mastype\u001b[0m\u001b[1;33m(\u001b[0m\u001b[0mdtype\u001b[0m\u001b[1;33m=\u001b[0m\u001b[0mdtype\u001b[0m\u001b[1;33m,\u001b[0m \u001b[0mcopy\u001b[0m\u001b[1;33m=\u001b[0m\u001b[0mcopy\u001b[0m\u001b[1;33m,\u001b[0m \u001b[0merrors\u001b[0m\u001b[1;33m=\u001b[0m\u001b[0merrors\u001b[0m\u001b[1;33m)\u001b[0m\u001b[1;33m\u001b[0m\u001b[1;33m\u001b[0m\u001b[0m\n\u001b[0m\u001b[0;32m   5816\u001b[0m             \u001b[1;32mreturn\u001b[0m \u001b[0mself\u001b[0m\u001b[1;33m.\u001b[0m\u001b[0m_constructor\u001b[0m\u001b[1;33m(\u001b[0m\u001b[0mnew_data\u001b[0m\u001b[1;33m)\u001b[0m\u001b[1;33m.\u001b[0m\u001b[0m__finalize__\u001b[0m\u001b[1;33m(\u001b[0m\u001b[0mself\u001b[0m\u001b[1;33m,\u001b[0m \u001b[0mmethod\u001b[0m\u001b[1;33m=\u001b[0m\u001b[1;34m\"astype\"\u001b[0m\u001b[1;33m)\u001b[0m\u001b[1;33m\u001b[0m\u001b[1;33m\u001b[0m\u001b[0m\n\u001b[0;32m   5817\u001b[0m \u001b[1;33m\u001b[0m\u001b[0m\n",
      "\u001b[1;32mc:\\Users\\lydia\\AppData\\Local\\Programs\\Python\\Python37\\lib\\site-packages\\pandas\\core\\internals\\managers.py\u001b[0m in \u001b[0;36mastype\u001b[1;34m(self, dtype, copy, errors)\u001b[0m\n\u001b[0;32m    416\u001b[0m \u001b[1;33m\u001b[0m\u001b[0m\n\u001b[0;32m    417\u001b[0m     \u001b[1;32mdef\u001b[0m \u001b[0mastype\u001b[0m\u001b[1;33m(\u001b[0m\u001b[0mself\u001b[0m\u001b[1;33m:\u001b[0m \u001b[0mT\u001b[0m\u001b[1;33m,\u001b[0m \u001b[0mdtype\u001b[0m\u001b[1;33m,\u001b[0m \u001b[0mcopy\u001b[0m\u001b[1;33m:\u001b[0m \u001b[0mbool\u001b[0m \u001b[1;33m=\u001b[0m \u001b[1;32mFalse\u001b[0m\u001b[1;33m,\u001b[0m \u001b[0merrors\u001b[0m\u001b[1;33m:\u001b[0m \u001b[0mstr\u001b[0m \u001b[1;33m=\u001b[0m \u001b[1;34m\"raise\"\u001b[0m\u001b[1;33m)\u001b[0m \u001b[1;33m->\u001b[0m \u001b[0mT\u001b[0m\u001b[1;33m:\u001b[0m\u001b[1;33m\u001b[0m\u001b[1;33m\u001b[0m\u001b[0m\n\u001b[1;32m--> 418\u001b[1;33m         \u001b[1;32mreturn\u001b[0m \u001b[0mself\u001b[0m\u001b[1;33m.\u001b[0m\u001b[0mapply\u001b[0m\u001b[1;33m(\u001b[0m\u001b[1;34m\"astype\"\u001b[0m\u001b[1;33m,\u001b[0m \u001b[0mdtype\u001b[0m\u001b[1;33m=\u001b[0m\u001b[0mdtype\u001b[0m\u001b[1;33m,\u001b[0m \u001b[0mcopy\u001b[0m\u001b[1;33m=\u001b[0m\u001b[0mcopy\u001b[0m\u001b[1;33m,\u001b[0m \u001b[0merrors\u001b[0m\u001b[1;33m=\u001b[0m\u001b[0merrors\u001b[0m\u001b[1;33m)\u001b[0m\u001b[1;33m\u001b[0m\u001b[1;33m\u001b[0m\u001b[0m\n\u001b[0m\u001b[0;32m    419\u001b[0m \u001b[1;33m\u001b[0m\u001b[0m\n\u001b[0;32m    420\u001b[0m     def convert(\n",
      "\u001b[1;32mc:\\Users\\lydia\\AppData\\Local\\Programs\\Python\\Python37\\lib\\site-packages\\pandas\\core\\internals\\managers.py\u001b[0m in \u001b[0;36mapply\u001b[1;34m(self, f, align_keys, ignore_failures, **kwargs)\u001b[0m\n\u001b[0;32m    325\u001b[0m                     \u001b[0mapplied\u001b[0m \u001b[1;33m=\u001b[0m \u001b[0mb\u001b[0m\u001b[1;33m.\u001b[0m\u001b[0mapply\u001b[0m\u001b[1;33m(\u001b[0m\u001b[0mf\u001b[0m\u001b[1;33m,\u001b[0m \u001b[1;33m**\u001b[0m\u001b[0mkwargs\u001b[0m\u001b[1;33m)\u001b[0m\u001b[1;33m\u001b[0m\u001b[1;33m\u001b[0m\u001b[0m\n\u001b[0;32m    326\u001b[0m                 \u001b[1;32melse\u001b[0m\u001b[1;33m:\u001b[0m\u001b[1;33m\u001b[0m\u001b[1;33m\u001b[0m\u001b[0m\n\u001b[1;32m--> 327\u001b[1;33m                     \u001b[0mapplied\u001b[0m \u001b[1;33m=\u001b[0m \u001b[0mgetattr\u001b[0m\u001b[1;33m(\u001b[0m\u001b[0mb\u001b[0m\u001b[1;33m,\u001b[0m \u001b[0mf\u001b[0m\u001b[1;33m)\u001b[0m\u001b[1;33m(\u001b[0m\u001b[1;33m**\u001b[0m\u001b[0mkwargs\u001b[0m\u001b[1;33m)\u001b[0m\u001b[1;33m\u001b[0m\u001b[1;33m\u001b[0m\u001b[0m\n\u001b[0m\u001b[0;32m    328\u001b[0m             \u001b[1;32mexcept\u001b[0m \u001b[1;33m(\u001b[0m\u001b[0mTypeError\u001b[0m\u001b[1;33m,\u001b[0m \u001b[0mNotImplementedError\u001b[0m\u001b[1;33m)\u001b[0m\u001b[1;33m:\u001b[0m\u001b[1;33m\u001b[0m\u001b[1;33m\u001b[0m\u001b[0m\n\u001b[0;32m    329\u001b[0m                 \u001b[1;32mif\u001b[0m \u001b[1;32mnot\u001b[0m \u001b[0mignore_failures\u001b[0m\u001b[1;33m:\u001b[0m\u001b[1;33m\u001b[0m\u001b[1;33m\u001b[0m\u001b[0m\n",
      "\u001b[1;32mc:\\Users\\lydia\\AppData\\Local\\Programs\\Python\\Python37\\lib\\site-packages\\pandas\\core\\internals\\blocks.py\u001b[0m in \u001b[0;36mastype\u001b[1;34m(self, dtype, copy, errors)\u001b[0m\n\u001b[0;32m    589\u001b[0m         \u001b[0mvalues\u001b[0m \u001b[1;33m=\u001b[0m \u001b[0mself\u001b[0m\u001b[1;33m.\u001b[0m\u001b[0mvalues\u001b[0m\u001b[1;33m\u001b[0m\u001b[1;33m\u001b[0m\u001b[0m\n\u001b[0;32m    590\u001b[0m \u001b[1;33m\u001b[0m\u001b[0m\n\u001b[1;32m--> 591\u001b[1;33m         \u001b[0mnew_values\u001b[0m \u001b[1;33m=\u001b[0m \u001b[0mastype_array_safe\u001b[0m\u001b[1;33m(\u001b[0m\u001b[0mvalues\u001b[0m\u001b[1;33m,\u001b[0m \u001b[0mdtype\u001b[0m\u001b[1;33m,\u001b[0m \u001b[0mcopy\u001b[0m\u001b[1;33m=\u001b[0m\u001b[0mcopy\u001b[0m\u001b[1;33m,\u001b[0m \u001b[0merrors\u001b[0m\u001b[1;33m=\u001b[0m\u001b[0merrors\u001b[0m\u001b[1;33m)\u001b[0m\u001b[1;33m\u001b[0m\u001b[1;33m\u001b[0m\u001b[0m\n\u001b[0m\u001b[0;32m    592\u001b[0m \u001b[1;33m\u001b[0m\u001b[0m\n\u001b[0;32m    593\u001b[0m         \u001b[0mnew_values\u001b[0m \u001b[1;33m=\u001b[0m \u001b[0mmaybe_coerce_values\u001b[0m\u001b[1;33m(\u001b[0m\u001b[0mnew_values\u001b[0m\u001b[1;33m)\u001b[0m\u001b[1;33m\u001b[0m\u001b[1;33m\u001b[0m\u001b[0m\n",
      "\u001b[1;32mc:\\Users\\lydia\\AppData\\Local\\Programs\\Python\\Python37\\lib\\site-packages\\pandas\\core\\dtypes\\cast.py\u001b[0m in \u001b[0;36mastype_array_safe\u001b[1;34m(values, dtype, copy, errors)\u001b[0m\n\u001b[0;32m   1307\u001b[0m \u001b[1;33m\u001b[0m\u001b[0m\n\u001b[0;32m   1308\u001b[0m     \u001b[1;32mtry\u001b[0m\u001b[1;33m:\u001b[0m\u001b[1;33m\u001b[0m\u001b[1;33m\u001b[0m\u001b[0m\n\u001b[1;32m-> 1309\u001b[1;33m         \u001b[0mnew_values\u001b[0m \u001b[1;33m=\u001b[0m \u001b[0mastype_array\u001b[0m\u001b[1;33m(\u001b[0m\u001b[0mvalues\u001b[0m\u001b[1;33m,\u001b[0m \u001b[0mdtype\u001b[0m\u001b[1;33m,\u001b[0m \u001b[0mcopy\u001b[0m\u001b[1;33m=\u001b[0m\u001b[0mcopy\u001b[0m\u001b[1;33m)\u001b[0m\u001b[1;33m\u001b[0m\u001b[1;33m\u001b[0m\u001b[0m\n\u001b[0m\u001b[0;32m   1310\u001b[0m     \u001b[1;32mexcept\u001b[0m \u001b[1;33m(\u001b[0m\u001b[0mValueError\u001b[0m\u001b[1;33m,\u001b[0m \u001b[0mTypeError\u001b[0m\u001b[1;33m)\u001b[0m\u001b[1;33m:\u001b[0m\u001b[1;33m\u001b[0m\u001b[1;33m\u001b[0m\u001b[0m\n\u001b[0;32m   1311\u001b[0m         \u001b[1;31m# e.g. astype_nansafe can fail on object-dtype of strings\u001b[0m\u001b[1;33m\u001b[0m\u001b[1;33m\u001b[0m\u001b[1;33m\u001b[0m\u001b[0m\n",
      "\u001b[1;32mc:\\Users\\lydia\\AppData\\Local\\Programs\\Python\\Python37\\lib\\site-packages\\pandas\\core\\dtypes\\cast.py\u001b[0m in \u001b[0;36mastype_array\u001b[1;34m(values, dtype, copy)\u001b[0m\n\u001b[0;32m   1255\u001b[0m \u001b[1;33m\u001b[0m\u001b[0m\n\u001b[0;32m   1256\u001b[0m     \u001b[1;32melse\u001b[0m\u001b[1;33m:\u001b[0m\u001b[1;33m\u001b[0m\u001b[1;33m\u001b[0m\u001b[0m\n\u001b[1;32m-> 1257\u001b[1;33m         \u001b[0mvalues\u001b[0m \u001b[1;33m=\u001b[0m \u001b[0mastype_nansafe\u001b[0m\u001b[1;33m(\u001b[0m\u001b[0mvalues\u001b[0m\u001b[1;33m,\u001b[0m \u001b[0mdtype\u001b[0m\u001b[1;33m,\u001b[0m \u001b[0mcopy\u001b[0m\u001b[1;33m=\u001b[0m\u001b[0mcopy\u001b[0m\u001b[1;33m)\u001b[0m\u001b[1;33m\u001b[0m\u001b[1;33m\u001b[0m\u001b[0m\n\u001b[0m\u001b[0;32m   1258\u001b[0m \u001b[1;33m\u001b[0m\u001b[0m\n\u001b[0;32m   1259\u001b[0m     \u001b[1;31m# in pandas we don't store numpy str dtypes, so convert to object\u001b[0m\u001b[1;33m\u001b[0m\u001b[1;33m\u001b[0m\u001b[1;33m\u001b[0m\u001b[0m\n",
      "\u001b[1;32mc:\\Users\\lydia\\AppData\\Local\\Programs\\Python\\Python37\\lib\\site-packages\\pandas\\core\\dtypes\\cast.py\u001b[0m in \u001b[0;36mastype_nansafe\u001b[1;34m(arr, dtype, copy, skipna)\u001b[0m\n\u001b[0;32m   1172\u001b[0m         \u001b[1;31m# work around NumPy brokenness, #1987\u001b[0m\u001b[1;33m\u001b[0m\u001b[1;33m\u001b[0m\u001b[1;33m\u001b[0m\u001b[0m\n\u001b[0;32m   1173\u001b[0m         \u001b[1;32mif\u001b[0m \u001b[0mnp\u001b[0m\u001b[1;33m.\u001b[0m\u001b[0missubdtype\u001b[0m\u001b[1;33m(\u001b[0m\u001b[0mdtype\u001b[0m\u001b[1;33m.\u001b[0m\u001b[0mtype\u001b[0m\u001b[1;33m,\u001b[0m \u001b[0mnp\u001b[0m\u001b[1;33m.\u001b[0m\u001b[0minteger\u001b[0m\u001b[1;33m)\u001b[0m\u001b[1;33m:\u001b[0m\u001b[1;33m\u001b[0m\u001b[1;33m\u001b[0m\u001b[0m\n\u001b[1;32m-> 1174\u001b[1;33m             \u001b[1;32mreturn\u001b[0m \u001b[0mlib\u001b[0m\u001b[1;33m.\u001b[0m\u001b[0mastype_intsafe\u001b[0m\u001b[1;33m(\u001b[0m\u001b[0marr\u001b[0m\u001b[1;33m,\u001b[0m \u001b[0mdtype\u001b[0m\u001b[1;33m)\u001b[0m\u001b[1;33m\u001b[0m\u001b[1;33m\u001b[0m\u001b[0m\n\u001b[0m\u001b[0;32m   1175\u001b[0m \u001b[1;33m\u001b[0m\u001b[0m\n\u001b[0;32m   1176\u001b[0m         \u001b[1;31m# if we have a datetime/timedelta array of objects\u001b[0m\u001b[1;33m\u001b[0m\u001b[1;33m\u001b[0m\u001b[1;33m\u001b[0m\u001b[0m\n",
      "\u001b[1;32mc:\\Users\\lydia\\AppData\\Local\\Programs\\Python\\Python37\\lib\\site-packages\\pandas\\_libs\\lib.pyx\u001b[0m in \u001b[0;36mpandas._libs.lib.astype_intsafe\u001b[1;34m()\u001b[0m\n",
      "\u001b[1;31mValueError\u001b[0m: invalid literal for int() with base 10: 'Apr 7, 2013'"
     ]
    }
   ],
   "source": [
    "anime[\"Start_Aired\"] = anime[\"Start_Aired\"].astype(\"int64\")"
   ]
  },
  {
   "cell_type": "code",
   "execution_count": null,
   "metadata": {},
   "outputs": [],
   "source": [
    "# #Vamos a intentar mantener sólo el año de cada fila\n",
    "# #Convertir columna a formato fecha\n",
    "# anime[\"Start_Aired\"]=pd.to_datetime(anime[\"Start_Aired\"])\n",
    "# #Extraer el año de cada fecha\n",
    "# anime[\"Start_Aired\"] =anime[\"Start_Aired\"].dt.year\n",
    "# anime[\"Start_Aired\"]= anime[\"Start_Aired\"].astype(\"int64\")\n",
    "# anime[\"Start_Aired\"].value_counts"
   ]
  },
  {
   "cell_type": "code",
   "execution_count": null,
   "metadata": {},
   "outputs": [
    {
     "data": {
      "text/plain": [
       "Index(['Title', 'English', 'Type', 'Episodes', 'Status', 'Start_Aired',\n",
       "       'Premiered', 'Licensors', 'Studios', 'Source', 'Genres', 'Themes',\n",
       "       'Demographics', 'Duration_Minutes', 'Rating', 'Score', 'Scored_Users',\n",
       "       'Ranked', 'Popularity', 'Members', 'Favorites'],\n",
       "      dtype='object')"
      ]
     },
     "execution_count": 465,
     "metadata": {},
     "output_type": "execute_result"
    }
   ],
   "source": [
    "anime.columns"
   ]
  },
  {
   "cell_type": "code",
   "execution_count": null,
   "metadata": {},
   "outputs": [
    {
     "data": {
      "text/plain": [
       "Unknown        5524\n",
       "Spring 2014      42\n",
       "Spring 2017      42\n",
       "Spring 2016      40\n",
       "Spring 2011      38\n",
       "               ... \n",
       "Summer 1977       1\n",
       "Summer 1978       1\n",
       "Winter 1993       1\n",
       "Winter 1967       1\n",
       "Summer 1976       1\n",
       "Name: Premiered, Length: 214, dtype: int64"
      ]
     },
     "execution_count": 534,
     "metadata": {},
     "output_type": "execute_result"
    }
   ],
   "source": [
    "anime[\"Premiered\"].value_counts() #Se repite, borrar columna"
   ]
  },
  {
   "cell_type": "code",
   "execution_count": null,
   "metadata": {},
   "outputs": [
    {
     "data": {
      "text/plain": [
       "Unknown                                      3345\n",
       "Toei Animation                                512\n",
       "Shanghai Animation Film Studio                308\n",
       "TMS Entertainment                             215\n",
       "OLM                                           178\n",
       "                                             ... \n",
       "TMS Entertainment, Telecom Animation Film       1\n",
       "Anpro                                           1\n",
       "Studio Kikan                                    1\n",
       "helo.inc                                        1\n",
       "Original Force                                  1\n",
       "Name: Studios, Length: 507, dtype: int64"
      ]
     },
     "execution_count": 469,
     "metadata": {},
     "output_type": "execute_result"
    }
   ],
   "source": [
    "anime[\"Studios\"].value_counts()"
   ]
  },
  {
   "cell_type": "code",
   "execution_count": null,
   "metadata": {},
   "outputs": [
    {
     "data": {
      "text/plain": [
       "Manga           2589\n",
       "Original        2307\n",
       "Unknown         1741\n",
       "Game             309\n",
       "Other            285\n",
       "Picture book     132\n",
       "4-koma manga     111\n",
       "Novel            100\n",
       "Book              78\n",
       "Visual novel      73\n",
       "Light novel       58\n",
       "Music             54\n",
       "Web manga         42\n",
       "Mixed media       25\n",
       "Card game         12\n",
       "Radio              3\n",
       "Name: Source, dtype: int64"
      ]
     },
     "execution_count": 472,
     "metadata": {},
     "output_type": "execute_result"
    }
   ],
   "source": [
    "anime['Source'].value_counts()"
   ]
  },
  {
   "cell_type": "code",
   "execution_count": null,
   "metadata": {},
   "outputs": [
    {
     "data": {
      "text/plain": [
       "G - All Ages                      2981\n",
       "PG-13 - Teens 13 or older         2167\n",
       "PG - Children                     1974\n",
       "R - 17+ (violence & profanity)     442\n",
       "R+ - Mild Nudity                   277\n",
       "None                                78\n",
       "Name: Rating, dtype: int64"
      ]
     },
     "execution_count": 473,
     "metadata": {},
     "output_type": "execute_result"
    }
   ],
   "source": [
    "anime['Rating'].value_counts()"
   ]
  },
  {
   "cell_type": "code",
   "execution_count": null,
   "metadata": {},
   "outputs": [
    {
     "data": {
      "text/plain": [
       "21254    2\n",
       "20063    2\n",
       "19687    2\n",
       "6649     2\n",
       "19688    2\n",
       "        ..\n",
       "7435     1\n",
       "7417     1\n",
       "7414     1\n",
       "7412     1\n",
       "21490    1\n",
       "Name: Popularity, Length: 7781, dtype: int64"
      ]
     },
     "execution_count": 474,
     "metadata": {},
     "output_type": "execute_result"
    }
   ],
   "source": [
    "# 'Popularity', 'Members', 'Favorites'\n",
    "anime['Popularity'].value_counts()"
   ]
  },
  {
   "cell_type": "code",
   "execution_count": null,
   "metadata": {},
   "outputs": [
    {
     "data": {
      "text/plain": [
       "29       69\n",
       "22       61\n",
       "31       54\n",
       "32       51\n",
       "30       49\n",
       "         ..\n",
       "32356     1\n",
       "32319     1\n",
       "32303     1\n",
       "32298     1\n",
       "10431     1\n",
       "Name: Members, Length: 4248, dtype: int64"
      ]
     },
     "execution_count": 475,
     "metadata": {},
     "output_type": "execute_result"
    }
   ],
   "source": [
    "anime['Members'].value_counts()"
   ]
  },
  {
   "cell_type": "code",
   "execution_count": null,
   "metadata": {},
   "outputs": [
    {
     "data": {
      "text/plain": [
       "0       3763\n",
       "1        666\n",
       "2        312\n",
       "3        176\n",
       "4        157\n",
       "        ... \n",
       "2545       1\n",
       "3235       1\n",
       "1457       1\n",
       "862        1\n",
       "854        1\n",
       "Name: Favorites, Length: 979, dtype: int64"
      ]
     },
     "execution_count": 476,
     "metadata": {},
     "output_type": "execute_result"
    }
   ],
   "source": [
    "anime['Favorites'].value_counts()"
   ]
  },
  {
   "cell_type": "code",
   "execution_count": null,
   "metadata": {},
   "outputs": [
    {
     "name": "stdout",
     "output_type": "stream",
     "text": [
      "<class 'pandas.core.frame.DataFrame'>\n",
      "Int64Index: 7919 entries, 0 to 21459\n",
      "Data columns (total 20 columns):\n",
      " #   Column            Non-Null Count  Dtype  \n",
      "---  ------            --------------  -----  \n",
      " 0   Title             7919 non-null   object \n",
      " 1   English           7919 non-null   object \n",
      " 2   Type              7919 non-null   object \n",
      " 3   Episodes          7919 non-null   float64\n",
      " 4   Status            7919 non-null   object \n",
      " 5   Start_Aired       7919 non-null   object \n",
      " 6   Premiered         7919 non-null   object \n",
      " 7   Studios           7919 non-null   object \n",
      " 8   Source            7919 non-null   object \n",
      " 9   Genres            7919 non-null   object \n",
      " 10  Themes            7919 non-null   object \n",
      " 11  Demographics      7919 non-null   object \n",
      " 12  Duration_Minutes  7919 non-null   float64\n",
      " 13  Rating            7919 non-null   object \n",
      " 14  Score             7919 non-null   float64\n",
      " 15  Scored_Users      7919 non-null   float64\n",
      " 16  Ranked            7919 non-null   float64\n",
      " 17  Popularity        7919 non-null   int64  \n",
      " 18  Members           7919 non-null   int64  \n",
      " 19  Favorites         7919 non-null   int64  \n",
      "dtypes: float64(5), int64(3), object(12)\n",
      "memory usage: 1.5+ MB\n"
     ]
    }
   ],
   "source": [
    "anime.info()"
   ]
  }
 ],
 "metadata": {
  "kernelspec": {
   "display_name": "Python 3",
   "language": "python",
   "name": "python3"
  },
  "language_info": {
   "codemirror_mode": {
    "name": "ipython",
    "version": 3
   },
   "file_extension": ".py",
   "mimetype": "text/x-python",
   "name": "python",
   "nbconvert_exporter": "python",
   "pygments_lexer": "ipython3",
   "version": "3.7.4"
  },
  "orig_nbformat": 4
 },
 "nbformat": 4,
 "nbformat_minor": 2
}
