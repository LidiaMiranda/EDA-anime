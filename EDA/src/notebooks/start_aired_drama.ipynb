{
 "cells": [
  {
   "attachments": {},
   "cell_type": "markdown",
   "metadata": {},
   "source": [
    "### Esta columna me va a volver loca"
   ]
  },
  {
   "cell_type": "code",
   "execution_count": 19,
   "metadata": {},
   "outputs": [],
   "source": [
    "import numpy as np\n",
    "import pandas as pd\n",
    "import datetime as dt\n",
    "import matplotlib.pyplot as plt\n",
    "import seaborn as sns\n",
    "import scipy as stats\n",
    "import statsmodels.api as sm"
   ]
  },
  {
   "cell_type": "code",
   "execution_count": 20,
   "metadata": {},
   "outputs": [],
   "source": [
    "import warnings\n",
    "warnings.filterwarnings('ignore')"
   ]
  },
  {
   "cell_type": "code",
   "execution_count": 21,
   "metadata": {},
   "outputs": [
    {
     "name": "stdout",
     "output_type": "stream",
     "text": [
      "<class 'pandas.core.frame.DataFrame'>\n",
      "RangeIndex: 21460 entries, 0 to 21459\n",
      "Data columns (total 28 columns):\n",
      " #   Column            Non-Null Count  Dtype  \n",
      "---  ------            --------------  -----  \n",
      " 0   ID                21460 non-null  int64  \n",
      " 1   Title             21460 non-null  object \n",
      " 2   Synonyms          21460 non-null  object \n",
      " 3   Japanese          21460 non-null  object \n",
      " 4   English           21460 non-null  object \n",
      " 5   Synopsis          21460 non-null  object \n",
      " 6   Type              21460 non-null  object \n",
      " 7   Episodes          20913 non-null  float64\n",
      " 8   Status            21460 non-null  object \n",
      " 9   Start_Aired       21460 non-null  object \n",
      " 10  End_Aired         21460 non-null  object \n",
      " 11  Premiered         21460 non-null  object \n",
      " 12  Broadcast         21460 non-null  object \n",
      " 13  Producers         21460 non-null  object \n",
      " 14  Licensors         21460 non-null  object \n",
      " 15  Studios           21460 non-null  object \n",
      " 16  Source            21460 non-null  object \n",
      " 17  Genres            21460 non-null  object \n",
      " 18  Themes            21460 non-null  object \n",
      " 19  Demographics      21460 non-null  object \n",
      " 20  Duration_Minutes  20861 non-null  float64\n",
      " 21  Rating            21460 non-null  object \n",
      " 22  Score             14562 non-null  float64\n",
      " 23  Scored_Users      14562 non-null  float64\n",
      " 24  Ranked            19536 non-null  float64\n",
      " 25  Popularity        21460 non-null  int64  \n",
      " 26  Members           21460 non-null  int64  \n",
      " 27  Favorites         21460 non-null  int64  \n",
      "dtypes: float64(5), int64(4), object(19)\n",
      "memory usage: 4.6+ MB\n"
     ]
    }
   ],
   "source": [
    "anime = pd.read_csv('Anime_raw.csv', sep=\",\")\n",
    "anime.info()"
   ]
  },
  {
   "cell_type": "code",
   "execution_count": 22,
   "metadata": {},
   "outputs": [
    {
     "data": {
      "text/plain": [
       "Unknown         374\n",
       "2010             89\n",
       "2011             85\n",
       "2005             84\n",
       "2012             75\n",
       "               ... \n",
       "Nov 22, 2002      1\n",
       "Oct 9, 1981       1\n",
       "Feb 10, 2004      1\n",
       "Nov 11, 1966      1\n",
       "May 12, 2018      1\n",
       "Name: Start_Aired, Length: 8221, dtype: int64"
      ]
     },
     "execution_count": 22,
     "metadata": {},
     "output_type": "execute_result"
    }
   ],
   "source": [
    "#La columna start_aired es object. Necesito que sea int y que solo aparezca el año. \n",
    "anime[\"Start_Aired\"].value_counts()"
   ]
  },
  {
   "cell_type": "code",
   "execution_count": 23,
   "metadata": {},
   "outputs": [
    {
     "data": {
      "text/plain": [
       "833      Unknown\n",
       "1382     Unknown\n",
       "1537     Unknown\n",
       "1703     Unknown\n",
       "1805     Unknown\n",
       "          ...   \n",
       "21433    Unknown\n",
       "21446    Unknown\n",
       "21447    Unknown\n",
       "21449    Unknown\n",
       "21451    Unknown\n",
       "Name: Start_Aired, Length: 374, dtype: object"
      ]
     },
     "execution_count": 23,
     "metadata": {},
     "output_type": "execute_result"
    }
   ],
   "source": [
    "#Idea: quitar Unknowns y los sustituimos por el outlier 1900\n",
    "#Máscara para que me muestre los unknowns. Hay 374\n",
    "mask=(anime[\"Start_Aired\"] == 'Unknown')\n",
    "anime[\"Start_Aired\"].loc[mask]"
   ]
  },
  {
   "cell_type": "code",
   "execution_count": 24,
   "metadata": {},
   "outputs": [
    {
     "data": {
      "text/plain": [
       "Series([], Name: Start_Aired, dtype: object)"
      ]
     },
     "execution_count": 24,
     "metadata": {},
     "output_type": "execute_result"
    }
   ],
   "source": [
    "#Ahora que me muestre si hay algún anime en 1900 de base. Serie vacía. No hay.\n",
    "mask=(anime[\"Start_Aired\"] == \"1900\")\n",
    "anime[\"Start_Aired\"].loc[mask]"
   ]
  },
  {
   "cell_type": "code",
   "execution_count": 25,
   "metadata": {},
   "outputs": [],
   "source": [
    "#Por cada elemento de la columna start_aired que sea Unknown, lo convierto en 1900 como número\n",
    "for i in anime[\"Start_Aired\"]:\n",
    "    if i == 'Unknown':\n",
    "        anime[\"Start_Aired\"][anime[\"Start_Aired\"] == 'Unknown'] = 1900"
   ]
  },
  {
   "cell_type": "code",
   "execution_count": 26,
   "metadata": {},
   "outputs": [
    {
     "data": {
      "text/plain": [
       "833      1900\n",
       "1382     1900\n",
       "1537     1900\n",
       "1703     1900\n",
       "1805     1900\n",
       "         ... \n",
       "21433    1900\n",
       "21446    1900\n",
       "21447    1900\n",
       "21449    1900\n",
       "21451    1900\n",
       "Name: Start_Aired, Length: 374, dtype: object"
      ]
     },
     "execution_count": 26,
     "metadata": {},
     "output_type": "execute_result"
    }
   ],
   "source": [
    "#Vuelvo a verificar si ahora hay 1900 ( en número). Hay 374, los mismos que antes eran Unk.\n",
    "mask=(anime[\"Start_Aired\"] == 1900)\n",
    "anime[\"Start_Aired\"].loc[mask]"
   ]
  },
  {
   "cell_type": "code",
   "execution_count": 27,
   "metadata": {},
   "outputs": [
    {
     "data": {
      "text/plain": [
       "1900            374\n",
       "2010             89\n",
       "2011             85\n",
       "2005             84\n",
       "2012             75\n",
       "               ... \n",
       "Nov 22, 2002      1\n",
       "Oct 9, 1981       1\n",
       "Feb 10, 2004      1\n",
       "Nov 11, 1966      1\n",
       "May 12, 2018      1\n",
       "Name: Start_Aired, Length: 8221, dtype: int64"
      ]
     },
     "execution_count": 27,
     "metadata": {},
     "output_type": "execute_result"
    }
   ],
   "source": [
    "anime[\"Start_Aired\"].value_counts()"
   ]
  },
  {
   "cell_type": "code",
   "execution_count": 29,
   "metadata": {},
   "outputs": [
    {
     "data": {
      "text/plain": [
       "'Apr 7, 2013'"
      ]
     },
     "execution_count": 29,
     "metadata": {},
     "output_type": "execute_result"
    }
   ],
   "source": [
    "#Vamos a convertir las fechas con formato \"May 12, 2018\" en 2018 (ejemplo). Buscamos una fila para hacer la prueba. \n",
    "anime[\"Start_Aired\"].iloc[0]"
   ]
  },
  {
   "cell_type": "code",
   "execution_count": 30,
   "metadata": {},
   "outputs": [
    {
     "data": {
      "text/plain": [
       "2013"
      ]
     },
     "execution_count": 30,
     "metadata": {},
     "output_type": "execute_result"
    }
   ],
   "source": [
    "#La primera fila nos vale. Vamos a hacer un split y que nos deje solo el año en formato int\n",
    "int(anime[\"Start_Aired\"].iloc[0].split()[-1])"
   ]
  },
  {
   "cell_type": "code",
   "execution_count": 31,
   "metadata": {},
   "outputs": [],
   "source": [
    "#Vamos a crear un bucle para que recorra toda la columna y convierta a int las fechas con formato \"May 12, 2018\", dejando solo el año. \n",
    "errores = pd.DataFrame()\n",
    "for pos in range(len(anime[\"Start_Aired\"])):\n",
    "    try:\n",
    "        if type(anime[\"Start_Aired\"].iloc[pos]) == str:\n",
    "            # anime[\"Start_Aired\"][pos]\n",
    "            anime[\"Start_Aired\"].iloc[pos]=int(anime[\"Start_Aired\"].iloc[pos].split()[-1])\n",
    "    except:\n",
    "        x=anime[\"Start_Aired\"].iloc[pos]\n",
    "        errores.append([pos,x])"
   ]
  },
  {
   "cell_type": "code",
   "execution_count": 32,
   "metadata": {},
   "outputs": [
    {
     "data": {
      "text/html": [
       "<div>\n",
       "<style scoped>\n",
       "    .dataframe tbody tr th:only-of-type {\n",
       "        vertical-align: middle;\n",
       "    }\n",
       "\n",
       "    .dataframe tbody tr th {\n",
       "        vertical-align: top;\n",
       "    }\n",
       "\n",
       "    .dataframe thead th {\n",
       "        text-align: right;\n",
       "    }\n",
       "</style>\n",
       "<table border=\"1\" class=\"dataframe\">\n",
       "  <thead>\n",
       "    <tr style=\"text-align: right;\">\n",
       "      <th></th>\n",
       "    </tr>\n",
       "  </thead>\n",
       "  <tbody>\n",
       "  </tbody>\n",
       "</table>\n",
       "</div>"
      ],
      "text/plain": [
       "Empty DataFrame\n",
       "Columns: []\n",
       "Index: []"
      ]
     },
     "execution_count": 32,
     "metadata": {},
     "output_type": "execute_result"
    }
   ],
   "source": [
    "#Parece que ya no hay errores\n",
    "errores"
   ]
  },
  {
   "cell_type": "code",
   "execution_count": 33,
   "metadata": {},
   "outputs": [
    {
     "data": {
      "text/plain": [
       "2017      1068\n",
       "2018      1044\n",
       "2016      1023\n",
       "2019       958\n",
       "2014       949\n",
       "          ... \n",
       "Jan-68       1\n",
       "May-13       1\n",
       "Mar-12       1\n",
       "Jun-03       1\n",
       "Jan-16       1\n",
       "Name: Start_Aired, Length: 191, dtype: int64"
      ]
     },
     "execution_count": 33,
     "metadata": {},
     "output_type": "execute_result"
    }
   ],
   "source": [
    "#Hasta aquí bien, ya tenemos una gran cantidad de fechas con formato \"solo año y string\". Ahora aparece un nuevo formato de fecha: Jan-16\n",
    "anime[\"Start_Aired\"].value_counts()"
   ]
  },
  {
   "cell_type": "code",
   "execution_count": 34,
   "metadata": {},
   "outputs": [],
   "source": [
    "#Partiendo de la base de que el anime comenzó el 1917 con un cortometraje que no está en la base de datos, podemos decir sin equivocarnos\n",
    "#que todo lo que sea menor de 24 será de los años 2000. \n",
    "# Creamos un bucle que nos busque todas las fechas que siguen siendo string, haga un split cuando encuentre un guión y,\n",
    "#si el número tras el guión es menos o igual a 24, le sumamos 2000. En caso contrario, sumamos 1900.\n",
    "errores = pd.DataFrame()\n",
    "for pos in range(len(anime[\"Start_Aired\"])):\n",
    "    try:\n",
    "        if type(anime[\"Start_Aired\"].iloc[pos]) == str:\n",
    "            aniored=int(anime[\"Start_Aired\"].iloc[pos].split(\"-\")[-1])\n",
    "            if aniored<=24:\n",
    "                anio=2000+aniored\n",
    "            else:\n",
    "                anio=1900+aniored          \n",
    "            anime[\"Start_Aired\"].iloc[pos]=anio\n",
    "    except:\n",
    "        x=anime[\"Start_Aired\"].iloc[pos]\n",
    "        errores.append([pos,x])\n"
   ]
  },
  {
   "cell_type": "code",
   "execution_count": 35,
   "metadata": {},
   "outputs": [
    {
     "data": {
      "text/plain": [
       "0        2013\n",
       "1        2006\n",
       "2        2009\n",
       "3        2015\n",
       "4        2012\n",
       "         ... \n",
       "21455    2018\n",
       "21456    2020\n",
       "21457    2018\n",
       "21458    2018\n",
       "21459    2018\n",
       "Name: Start_Aired, Length: 21460, dtype: object"
      ]
     },
     "execution_count": 35,
     "metadata": {},
     "output_type": "execute_result"
    }
   ],
   "source": [
    "#Ya solo aparecen años, pero los que originalmente tenían el formato que queríamos siguen siendo string.\n",
    "anime[\"Start_Aired\"]"
   ]
  },
  {
   "cell_type": "code",
   "execution_count": 40,
   "metadata": {},
   "outputs": [],
   "source": [
    "#Cambiamos el tipo de los datos de la columna a int\n",
    "anime[\"Start_Aired\"] = anime[\"Start_Aired\"].astype(int)"
   ]
  },
  {
   "cell_type": "code",
   "execution_count": 41,
   "metadata": {},
   "outputs": [
    {
     "name": "stdout",
     "output_type": "stream",
     "text": [
      "<class 'pandas.core.frame.DataFrame'>\n",
      "RangeIndex: 21460 entries, 0 to 21459\n",
      "Data columns (total 28 columns):\n",
      " #   Column            Non-Null Count  Dtype  \n",
      "---  ------            --------------  -----  \n",
      " 0   ID                21460 non-null  int64  \n",
      " 1   Title             21460 non-null  object \n",
      " 2   Synonyms          21460 non-null  object \n",
      " 3   Japanese          21460 non-null  object \n",
      " 4   English           21460 non-null  object \n",
      " 5   Synopsis          21460 non-null  object \n",
      " 6   Type              21460 non-null  object \n",
      " 7   Episodes          20913 non-null  float64\n",
      " 8   Status            21460 non-null  object \n",
      " 9   Start_Aired       21460 non-null  int32  \n",
      " 10  End_Aired         21460 non-null  object \n",
      " 11  Premiered         21460 non-null  object \n",
      " 12  Broadcast         21460 non-null  object \n",
      " 13  Producers         21460 non-null  object \n",
      " 14  Licensors         21460 non-null  object \n",
      " 15  Studios           21460 non-null  object \n",
      " 16  Source            21460 non-null  object \n",
      " 17  Genres            21460 non-null  object \n",
      " 18  Themes            21460 non-null  object \n",
      " 19  Demographics      21460 non-null  object \n",
      " 20  Duration_Minutes  20861 non-null  float64\n",
      " 21  Rating            21460 non-null  object \n",
      " 22  Score             14562 non-null  float64\n",
      " 23  Scored_Users      14562 non-null  float64\n",
      " 24  Ranked            19536 non-null  float64\n",
      " 25  Popularity        21460 non-null  int64  \n",
      " 26  Members           21460 non-null  int64  \n",
      " 27  Favorites         21460 non-null  int64  \n",
      "dtypes: float64(5), int32(1), int64(4), object(18)\n",
      "memory usage: 4.5+ MB\n"
     ]
    }
   ],
   "source": [
    "#Verificamos si funcionó. Start_Aired -->21460 non-null -> int32 (Funcionó!)\n",
    "anime.info()"
   ]
  }
 ],
 "metadata": {
  "kernelspec": {
   "display_name": "Python 3",
   "language": "python",
   "name": "python3"
  },
  "language_info": {
   "codemirror_mode": {
    "name": "ipython",
    "version": 3
   },
   "file_extension": ".py",
   "mimetype": "text/x-python",
   "name": "python",
   "nbconvert_exporter": "python",
   "pygments_lexer": "ipython3",
   "version": "3.7.4"
  },
  "orig_nbformat": 4
 },
 "nbformat": 4,
 "nbformat_minor": 2
}
